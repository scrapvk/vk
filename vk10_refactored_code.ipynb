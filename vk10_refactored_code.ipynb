{
 "cells": [
  {
   "cell_type": "code",
   "execution_count": 1,
   "metadata": {},
   "outputs": [],
   "source": [
    "import numpy as np\n",
    "import pandas as pd\n",
    "from list_of_words import *\n",
    "from post_keyword_finder import find_words, doctors_identifier,trash_identifier"
   ]
  },
  {
   "cell_type": "code",
   "execution_count": 2,
   "metadata": {},
   "outputs": [],
   "source": [
    "import matplotlib.pyplot as plt\n",
    "%matplotlib inline"
   ]
  },
  {
   "cell_type": "code",
   "execution_count": 2,
   "metadata": {},
   "outputs": [],
   "source": [
    "df = pd.read_csv('comments_likes_reposts_final1.csv')"
   ]
  },
  {
   "cell_type": "code",
   "execution_count": 39,
   "metadata": {},
   "outputs": [
    {
     "data": {
      "text/html": [
       "<div>\n",
       "<style scoped>\n",
       "    .dataframe tbody tr th:only-of-type {\n",
       "        vertical-align: middle;\n",
       "    }\n",
       "\n",
       "    .dataframe tbody tr th {\n",
       "        vertical-align: top;\n",
       "    }\n",
       "\n",
       "    .dataframe thead th {\n",
       "        text-align: right;\n",
       "    }\n",
       "</style>\n",
       "<table border=\"1\" class=\"dataframe\">\n",
       "  <thead>\n",
       "    <tr style=\"text-align: right;\">\n",
       "      <th></th>\n",
       "      <th>Unnamed: 0</th>\n",
       "      <th>post_id</th>\n",
       "      <th>user_id</th>\n",
       "      <th>post</th>\n",
       "      <th>sex</th>\n",
       "      <th>Name_Surname</th>\n",
       "      <th>comments</th>\n",
       "      <th>platform</th>\n",
       "      <th>date</th>\n",
       "      <th>key_word</th>\n",
       "      <th>...</th>\n",
       "      <th>work_place</th>\n",
       "      <th>site</th>\n",
       "      <th>bdate</th>\n",
       "      <th>likes_count</th>\n",
       "      <th>comments_count</th>\n",
       "      <th>reposts_count</th>\n",
       "      <th>graduation_year</th>\n",
       "      <th>education_status</th>\n",
       "      <th>users_liked</th>\n",
       "      <th>users_reposted</th>\n",
       "    </tr>\n",
       "  </thead>\n",
       "  <tbody>\n",
       "    <tr>\n",
       "      <th>0</th>\n",
       "      <td>0</td>\n",
       "      <td>1383.0</td>\n",
       "      <td>174740577</td>\n",
       "      <td>🌸23.02-16.00&lt;br&gt;🌸24.02-16.00&lt;br&gt;🌸26.02-10.00&lt;b...</td>\n",
       "      <td>Female</td>\n",
       "      <td>Yulia_Baboshina</td>\n",
       "      <td>[]</td>\n",
       "      <td>api_instagram</td>\n",
       "      <td>2018-02-19 17:08:06</td>\n",
       "      <td>#глаза</td>\n",
       "      <td>...</td>\n",
       "      <td>РГСУ</td>\n",
       "      <td>NaN</td>\n",
       "      <td>9.11</td>\n",
       "      <td>0</td>\n",
       "      <td>0</td>\n",
       "      <td>0</td>\n",
       "      <td>0.0</td>\n",
       "      <td>NaN</td>\n",
       "      <td>{'count': 0, 'users': []}</td>\n",
       "      <td>{'count': 0, 'users': []}</td>\n",
       "    </tr>\n",
       "  </tbody>\n",
       "</table>\n",
       "<p>1 rows × 26 columns</p>\n",
       "</div>"
      ],
      "text/plain": [
       "   Unnamed: 0  post_id    user_id  \\\n",
       "0           0   1383.0  174740577   \n",
       "\n",
       "                                                post     sex     Name_Surname  \\\n",
       "0  🌸23.02-16.00<br>🌸24.02-16.00<br>🌸26.02-10.00<b...  Female  Yulia_Baboshina   \n",
       "\n",
       "  comments       platform                 date key_word  \\\n",
       "0       []  api_instagram  2018-02-19 17:08:06   #глаза   \n",
       "\n",
       "             ...             work_place site bdate likes_count comments_count  \\\n",
       "0            ...                   РГСУ  NaN  9.11           0              0   \n",
       "\n",
       "  reposts_count graduation_year education_status                users_liked  \\\n",
       "0             0             0.0              NaN  {'count': 0, 'users': []}   \n",
       "\n",
       "              users_reposted  \n",
       "0  {'count': 0, 'users': []}  \n",
       "\n",
       "[1 rows x 26 columns]"
      ]
     },
     "execution_count": 39,
     "metadata": {},
     "output_type": "execute_result"
    }
   ],
   "source": [
    "df.head(1)"
   ]
  },
  {
   "cell_type": "code",
   "execution_count": 4,
   "metadata": {},
   "outputs": [],
   "source": [
    "df_gr = df.groupby(['user_id','date','post']) # grouping for removing totally indeticall rows\n",
    "df_gr = df_gr.nth(0).reset_index() #selecting first(one) of them"
   ]
  },
  {
   "cell_type": "code",
   "execution_count": null,
   "metadata": {},
   "outputs": [],
   "source": []
  },
  {
   "cell_type": "markdown",
   "metadata": {},
   "source": [
    "##  Filtering through Post, Activity, Interest, Work, Website,Faculty columns"
   ]
  },
  {
   "cell_type": "code",
   "execution_count": null,
   "metadata": {},
   "outputs": [],
   "source": [
    "# this tab was not run, as it was taking too long time, performed in vk12\n",
    "\"\"\"%%time\n",
    "df_gr['post_num_keywords'] = df_gr.apply(lambda x: find_words(x,list_of_keywords_posts,'post','count'),axis=1)\n",
    "df_gr['post_set_keywords'] = df_gr.apply(lambda x: find_words(x,list_of_keywords_posts,'post','set'),axis=1)\"\"\""
   ]
  },
  {
   "cell_type": "code",
   "execution_count": 5,
   "metadata": {},
   "outputs": [
    {
     "name": "stdout",
     "output_type": "stream",
     "text": [
      "Wall time: 28.4 ms\n"
     ]
    }
   ],
   "source": [
    "%%time\n",
    "#filling null values in activities and interests columns\n",
    "df_gr.activities.fillna('',inplace=True)\n",
    "df_gr.interests.fillna('',inplace=True)"
   ]
  },
  {
   "cell_type": "code",
   "execution_count": 6,
   "metadata": {},
   "outputs": [
    {
     "name": "stdout",
     "output_type": "stream",
     "text": [
      "Wall time: 1min 36s\n"
     ]
    }
   ],
   "source": [
    "%%time\n",
    "#Searches in activities\n",
    "#doctors\n",
    "df_gr['act_num_keyword'] = df_gr.apply(lambda x: find_words(x,words_nohashtag,'activities','count'),axis=1)\n",
    "df_gr['act_set_keyword'] = df_gr.apply(lambda x: find_words(x,words_nohashtag,'activities','set'),axis=1)\n",
    "\n",
    "df_gr['act_oculist_num_keyword'] = df_gr.apply(lambda x: find_words(x,oculist_keyword_act,'activities','count'),axis=1)\n",
    "df_gr['act_oculist_set_keyword'] = df_gr.apply(lambda x: find_words(x,oculist_keyword_act,'activities','set'),axis=1)\n",
    "\n",
    "df_gr['act_kosmet_num_keyword'] = df_gr.apply(lambda x: find_words(x,kosmet_keyword_act,'activities','count'),axis=1)\n",
    "\n",
    "#Searches in interests\n",
    "df_gr['int_num_keyword'] = df_gr.apply(lambda x: find_words(x,words_nohashtag,'interests','count'),axis=1)\n",
    "df_gr['int_set_keyword'] = df_gr.apply(lambda x: find_words(x,words_nohashtag,'interests','set'),axis=1)\n",
    "\n",
    "df_gr['int_kosmet_num_keyword'] = df_gr.apply(lambda x: find_words(x,kosmet_keyword_int,'interests','count'),axis=1)\n",
    "#this column: int_oculist_num_keyword  --> all the values are 0\n",
    "#df_gr['int_oculist_num_keyword'] = df_gr.apply(lambda x: find_words(x,oculist_keyword_int,'interests','count'),axis=1)"
   ]
  },
  {
   "cell_type": "code",
   "execution_count": 7,
   "metadata": {},
   "outputs": [],
   "source": [
    "#filling null values in work_place column\n",
    "df_gr.work_place.fillna('',inplace=True)"
   ]
  },
  {
   "cell_type": "code",
   "execution_count": 8,
   "metadata": {},
   "outputs": [
    {
     "name": "stdout",
     "output_type": "stream",
     "text": [
      "Wall time: 28.2 s\n"
     ]
    }
   ],
   "source": [
    "%%time\n",
    "#Searches in work place\n",
    "#doctors\n",
    "df_gr['work_doctors_num_keyword'] = df_gr.apply(lambda x: find_words(x,doctors_keyword_work,'work_place','count'),axis=1)\n",
    "df_gr['work_doctors_set_keyword'] = df_gr.apply(lambda x: find_words(x,doctors_keyword_work,'work_place','set'),axis=1)\n",
    "\n",
    "#oculist\n",
    "df_gr['work_oculist_num_keyword'] = df_gr.apply(lambda x: find_words(x,oculist_keyword_work,'work_place','count'),axis=1)\n",
    "df_gr['work_oculist_set_keyword'] = df_gr.apply(lambda x: find_words(x,oculist_keyword_work,'work_place','set'),axis=1)\n",
    "\n",
    "#trash\n",
    "df_gr['work_kosmet_num_keyword'] = df_gr.apply(lambda x: find_words(x,kosmet_keyword_work,'work_place','count'),axis=1)\n",
    "df_gr['work_veter_num_keyword'] = df_gr.apply(lambda x: find_words(x,veter_keyword_work,'work_place','count'),axis=1)"
   ]
  },
  {
   "cell_type": "code",
   "execution_count": 9,
   "metadata": {},
   "outputs": [],
   "source": [
    "#filling null values in faculty_name column\n",
    "df_gr.faculty_name.fillna('',inplace=True)"
   ]
  },
  {
   "cell_type": "code",
   "execution_count": 10,
   "metadata": {},
   "outputs": [
    {
     "name": "stdout",
     "output_type": "stream",
     "text": [
      "Wall time: 7.96 s\n"
     ]
    }
   ],
   "source": [
    "%%time\n",
    "#Searches in faculty_name\n",
    "df_gr['faculty_med_num_keyword'] = df_gr.apply(lambda x: find_words(x,list_of_keywords_med_faculty,'faculty_name','count'),axis=1)\n",
    "df_gr['faculty_med_set_keyword'] = df_gr.apply(lambda x: find_words(x,list_of_keywords_med_faculty,'faculty_name','set'),axis=1)"
   ]
  },
  {
   "cell_type": "code",
   "execution_count": 11,
   "metadata": {},
   "outputs": [],
   "source": [
    "#filling null values in site(website) column\n",
    "df_gr.site.fillna('',inplace=True)"
   ]
  },
  {
   "cell_type": "code",
   "execution_count": 12,
   "metadata": {},
   "outputs": [
    {
     "name": "stdout",
     "output_type": "stream",
     "text": [
      "Wall time: 13.4 s\n"
     ]
    }
   ],
   "source": [
    "%%time\n",
    "#Searches in faculty_name\n",
    "df_gr['web_isdoctors'] = df_gr.apply(lambda x: find_words(x,doctors_keyword_web,'site','exist'),axis=1)\n",
    "df_gr['web_iskosmet'] = df_gr.apply(lambda x: find_words(x,kosmet_keyword_web,'site','exist'),axis=1)\n",
    "df_gr['web_num_kosmet'] = df_gr.apply(lambda x: find_words(x,kosmet_keyword_web,'site','count'),axis=1)"
   ]
  },
  {
   "cell_type": "code",
   "execution_count": 13,
   "metadata": {},
   "outputs": [
    {
     "name": "stdout",
     "output_type": "stream",
     "text": [
      "Wall time: 3.94 s\n"
     ]
    }
   ],
   "source": [
    "%%time\n",
    "#Searches in faculty_name\n",
    "#df_gr['work_ispediator'] = df_gr.apply(lambda x: find_words(x,'педиатр','work_place','exist'),axis=1)\n"
   ]
  },
  {
   "cell_type": "markdown",
   "metadata": {},
   "source": [
    "### End of the filtering"
   ]
  },
  {
   "cell_type": "code",
   "execution_count": 14,
   "metadata": {},
   "outputs": [],
   "source": [
    "#columns based on criteria\n",
    "df_gr['doctor'] = 0\n",
    "df_gr['oculist'] = 0\n",
    "df_gr['pediator'] = 0\n",
    "df_gr['client'] = 0\n",
    "df_gr['trash'] = 0"
   ]
  },
  {
   "cell_type": "markdown",
   "metadata": {},
   "source": [
    "## Doctors identification"
   ]
  },
  {
   "cell_type": "code",
   "execution_count": 15,
   "metadata": {
    "scrolled": true
   },
   "outputs": [],
   "source": [
    "word_list_act = ['офтальмолог','астигматизм','глаукома','окулист','миопия']\n",
    "doctors_identifier(df_gr, word_list_act, 'act_num_keyword', 'act_set_keyword', thresh=3, flag=0)\n",
    "word_list_int = ['офтальмолог','астигматизм','глаукома','окулист','миопия']\n",
    "doctors_identifier(df_gr, word_list_int, 'int_num_keyword', 'int_set_keyword', thresh=3, flag=0)\n",
    "\n",
    "doctors_identifier(df_gr, oculist_keyword_act.split('|'), 'act_oculist_num_keyword', 'act_oculist_set_keyword', thresh=3, flag=0)"
   ]
  },
  {
   "cell_type": "code",
   "execution_count": 16,
   "metadata": {
    "scrolled": true
   },
   "outputs": [],
   "source": [
    "# taking care of all the rows which have list lenght = 1 and are note 'детск'\n",
    "df_gr_work1 = df_gr[df_gr.work_doctors_num_keyword==1]\n",
    "df_gr_detsk = df_gr_work1.work_doctors_set_keyword.apply(lambda x : x if 'детск' not in x[0].lower() else '-1')\n",
    "df_gr_non_detsk_ind = df_gr_detsk[df_gr_detsk!='-1'].index\n",
    "df_gr.loc[df_gr_non_detsk_ind,'doctor'] += 1\n",
    "\n",
    "df_gr_work_ped = df_gr_detsk.apply(lambda x :'педиатр' in ' '.join(x).lower())\n",
    "df_gr_work_ped_ind = df_gr_work_ped[df_gr_work_ped==True].index\n",
    "df_gr.loc[df_gr_work_ped_ind,'pediator'] += 1\n",
    "\n",
    "word_list_work = ['офтальмолог','астигматизм','глаукома','окулист','зрени','Глаз','опти','OPTIC']\n",
    "doctors_identifier(df_gr, word_list_work, 'work_doctors_num_keyword', 'work_doctors_set_keyword', thresh=2, flag=1)\n",
    "\n",
    "df_gr_ped = df_gr[df_gr['work_doctors_num_keyword']>=2]\n",
    "df_gr_ped = df_gr_ped.work_doctors_set_keyword.apply(lambda x :'детск' in ' '.join(x).lower())\n",
    "df_gr_ped_ind = df_gr_ped[df_gr_ped==True].index\n",
    "df_gr.loc[df_gr_ped_ind,'pediator'] += 1\n"
   ]
  },
  {
   "cell_type": "code",
   "execution_count": 17,
   "metadata": {},
   "outputs": [],
   "source": [
    "#faculty name\n",
    "df_gr_fac = df_gr[df_gr['faculty_med_num_keyword']>=1]\n",
    "df_gr_fac_ind = df_gr_fac.index\n",
    "df_gr.loc[df_gr_fac_ind,'doctor'] += 1\n",
    "\n",
    "df_gr_fac_ped = df_gr_fac.faculty_med_set_keyword.apply(lambda x :'педиатр' in ' '.join(x).lower())\n",
    "df_gr_fac_ind = df_gr_fac_ped[df_gr_fac_ped==True].index\n",
    "df_gr.loc[df_gr_fac_ind,'pediator'] += 1"
   ]
  },
  {
   "cell_type": "code",
   "execution_count": 18,
   "metadata": {},
   "outputs": [],
   "source": [
    "# web\n",
    "\n",
    "df_gr_web = df_gr[df_gr['web_isdoctors']>=1]\n",
    "df_gr_web_ind = df_gr_web.index\n",
    "df_gr.loc[df_gr_web_ind,'doctor'] += 1"
   ]
  },
  {
   "cell_type": "code",
   "execution_count": 19,
   "metadata": {},
   "outputs": [],
   "source": [
    "doctors_identifier(df_gr, oculist_keyword_act.split('|'), 'act_oculist_num_keyword', 'act_oculist_set_keyword', thresh=3, flag=0)"
   ]
  },
  {
   "cell_type": "markdown",
   "metadata": {},
   "source": [
    "### End of Doctors identification"
   ]
  },
  {
   "cell_type": "code",
   "execution_count": null,
   "metadata": {},
   "outputs": [],
   "source": []
  },
  {
   "cell_type": "markdown",
   "metadata": {},
   "source": [
    "## Trash identification"
   ]
  },
  {
   "cell_type": "code",
   "execution_count": 20,
   "metadata": {},
   "outputs": [],
   "source": [
    "trash_identifier(df_gr, 'work_kosmet_num_keyword', thresh=2)"
   ]
  },
  {
   "cell_type": "code",
   "execution_count": 21,
   "metadata": {},
   "outputs": [],
   "source": [
    "trash_identifier(df_gr, 'act_kosmet_num_keyword', thresh=2)"
   ]
  },
  {
   "cell_type": "code",
   "execution_count": 22,
   "metadata": {},
   "outputs": [],
   "source": [
    "trash_identifier(df_gr, 'int_kosmet_num_keyword', thresh=2)"
   ]
  },
  {
   "cell_type": "code",
   "execution_count": 23,
   "metadata": {},
   "outputs": [],
   "source": [
    "trash_identifier(df_gr, 'web_num_kosmet', thresh=2)"
   ]
  },
  {
   "cell_type": "markdown",
   "metadata": {},
   "source": [
    "### End of Trash identification"
   ]
  },
  {
   "cell_type": "code",
   "execution_count": null,
   "metadata": {},
   "outputs": [],
   "source": [
    "# ideally should be saved at this point but memory is not enoigh"
   ]
  },
  {
   "cell_type": "code",
   "execution_count": null,
   "metadata": {},
   "outputs": [],
   "source": [
    "#df_gr.to_csv('user_info_filtered.csv', index=False)"
   ]
  },
  {
   "cell_type": "markdown",
   "metadata": {},
   "source": [
    "# Dropping some columns to be able to save the .csv file"
   ]
  },
  {
   "cell_type": "code",
   "execution_count": 30,
   "metadata": {},
   "outputs": [],
   "source": [
    "del df_gr['Unnamed: 0']"
   ]
  },
  {
   "cell_type": "code",
   "execution_count": 32,
   "metadata": {},
   "outputs": [],
   "source": [
    "del df_gr['act_num_keyword']\n",
    "del df_gr['act_set_keyword']\n",
    "del df_gr['act_oculist_num_keyword']\n",
    "del df_gr['act_oculist_set_keyword']\n",
    "del df_gr['act_kosmet_num_keyword']\n",
    "del df_gr['int_num_keyword']\n",
    "del df_gr['int_set_keyword']\n",
    "del df_gr['int_kosmet_num_keyword']"
   ]
  },
  {
   "cell_type": "code",
   "execution_count": 33,
   "metadata": {},
   "outputs": [],
   "source": [
    "del df_gr['work_doctors_num_keyword']\n",
    "del df_gr['work_doctors_set_keyword']\n",
    "del df_gr['work_oculist_num_keyword']\n",
    "del df_gr['work_oculist_set_keyword']\n",
    "del df_gr['work_kosmet_num_keyword'] \n",
    "del df_gr['work_veter_num_keyword']"
   ]
  },
  {
   "cell_type": "code",
   "execution_count": 34,
   "metadata": {},
   "outputs": [],
   "source": [
    "del df_gr['faculty_med_num_keyword']  \n",
    "del df_gr['faculty_med_set_keyword'] "
   ]
  },
  {
   "cell_type": "code",
   "execution_count": 35,
   "metadata": {},
   "outputs": [],
   "source": [
    "del df_gr['web_isdoctors'] \n",
    "del df_gr['web_iskosmet']\n",
    "del df_gr['web_num_kosmet']"
   ]
  },
  {
   "cell_type": "code",
   "execution_count": 36,
   "metadata": {},
   "outputs": [],
   "source": [
    "del df_gr['work_ispediator']"
   ]
  },
  {
   "cell_type": "code",
   "execution_count": 37,
   "metadata": {},
   "outputs": [],
   "source": [
    "df_gr.to_csv('user_info_filtered.csv', index=False)"
   ]
  },
  {
   "cell_type": "code",
   "execution_count": 33,
   "metadata": {},
   "outputs": [
    {
     "data": {
      "text/plain": [
       " 0    249056\n",
       "-2       207\n",
       "-1       159\n",
       "-3        40\n",
       "-4        31\n",
       "-6         7\n",
       "-8         7\n",
       "-5         3\n",
       "dtype: int64"
      ]
     },
     "execution_count": 33,
     "metadata": {},
     "output_type": "execute_result"
    }
   ],
   "source": [
    "(df_gr['trash']*(-1)*df_gr['doctor']).value_counts()"
   ]
  },
  {
   "cell_type": "code",
   "execution_count": null,
   "metadata": {},
   "outputs": [],
   "source": [
    "# TRASHHHHH for sure user ids: 55293666, 52787032, 133080605, 153342056, 147080249, 187670366, 189097711, 190247060,204377934,\n",
    "# 218436248, 241212180, 315643103, 332113299, 13121087, "
   ]
  },
  {
   "cell_type": "code",
   "execution_count": null,
   "metadata": {},
   "outputs": [],
   "source": [
    "# DOCTOR 45570"
   ]
  },
  {
   "cell_type": "code",
   "execution_count": 261,
   "metadata": {},
   "outputs": [],
   "source": [
    "b =  df_gr_c['work_doctors_set_keyword'].apply(lambda x :'детск' in ' '.join(x).lower() )\n",
    "b.value_counts()"
   ]
  },
  {
   "cell_type": "code",
   "execution_count": 60,
   "metadata": {},
   "outputs": [],
   "source": [
    "c= df_gr['web_setkosmet'].apply(lambda x : str(x))\n",
    "c.value_counts()[1:]"
   ]
  },
  {
   "cell_type": "code",
   "execution_count": 620,
   "metadata": {},
   "outputs": [],
   "source": [
    "q=c.apply(lambda x :'глазного центра' in x.lower())\n",
    "q[q==True].index"
   ]
  },
  {
   "cell_type": "code",
   "execution_count": null,
   "metadata": {},
   "outputs": [],
   "source": [
    "#Вам предложить комания познакомьтесь с информацией  tri-z.ru"
   ]
  }
 ],
 "metadata": {
  "kernelspec": {
   "display_name": "Python 3",
   "language": "python",
   "name": "python3"
  },
  "language_info": {
   "codemirror_mode": {
    "name": "ipython",
    "version": 3
   },
   "file_extension": ".py",
   "mimetype": "text/x-python",
   "name": "python",
   "nbconvert_exporter": "python",
   "pygments_lexer": "ipython3",
   "version": "3.6.5"
  }
 },
 "nbformat": 4,
 "nbformat_minor": 2
}
