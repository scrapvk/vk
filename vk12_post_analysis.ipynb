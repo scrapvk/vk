{
 "cells": [
  {
   "cell_type": "code",
   "execution_count": 1,
   "metadata": {},
   "outputs": [],
   "source": [
    "import numpy as np\n",
    "import pandas as pd\n",
    "import ast\n",
    "\n",
    "from datetime import datetime\n",
    "import time\n",
    "\n",
    "from list_of_words import *\n",
    "from keyword_finder import find_words, doctors_identifier,trash_identifier\n",
    "from drop_user_id import drop_user_ids"
   ]
  },
  {
   "cell_type": "code",
   "execution_count": 2,
   "metadata": {},
   "outputs": [],
   "source": [
    "import matplotlib.pyplot as plt\n",
    "%matplotlib inline"
   ]
  },
  {
   "cell_type": "code",
   "execution_count": 3,
   "metadata": {},
   "outputs": [],
   "source": [
    "# Done 1. How many post per user\n",
    "# Done 2. How many time the same post occured\n",
    "# Done 3. How many users posted the same post (for different posts)\n",
    "# Done 4. How many time the user posted the same post \n",
    "# 5. If the time difference of the same posts done by 1 user is < threshold. join all infos (likes, comments...) of the posts"
   ]
  },
  {
   "cell_type": "code",
   "execution_count": 4,
   "metadata": {},
   "outputs": [
    {
     "name": "stdout",
     "output_type": "stream",
     "text": [
      "Wall time: 47.9 s\n"
     ]
    }
   ],
   "source": [
    "%%time\n",
    "df = pd.read_csv('user_info_filtered_new_20July2018.csv')#('user_info_filtered.csv') user_info_filtered_posts.csv\n",
    "#df.drop(df.columns[0], axis=1,inplace=True)"
   ]
  },
  {
   "cell_type": "code",
   "execution_count": 5,
   "metadata": {},
   "outputs": [
    {
     "data": {
      "text/plain": [
       "(249510, 30)"
      ]
     },
     "execution_count": 5,
     "metadata": {},
     "output_type": "execute_result"
    }
   ],
   "source": [
    "df.shape,df.user_id.nunique()"
   ]
  },
  {
   "cell_type": "code",
   "execution_count": 7,
   "metadata": {},
   "outputs": [],
   "source": [
    "#posts with less then 200 words\n",
    "df['short_post']=df.post.apply(lambda x: x if len(x.split(' '))<200 else 'Too Long') \n",
    "#taking only short posts to work with\n",
    "df_short = df[df.short_post!='Too Long']"
   ]
  },
  {
   "cell_type": "code",
   "execution_count": 45,
   "metadata": {
    "scrolled": true
   },
   "outputs": [
    {
     "data": {
      "text/html": [
       "<div>\n",
       "<style scoped>\n",
       "    .dataframe tbody tr th:only-of-type {\n",
       "        vertical-align: middle;\n",
       "    }\n",
       "\n",
       "    .dataframe tbody tr th {\n",
       "        vertical-align: top;\n",
       "    }\n",
       "\n",
       "    .dataframe thead th {\n",
       "        text-align: right;\n",
       "    }\n",
       "</style>\n",
       "<table border=\"1\" class=\"dataframe\">\n",
       "  <thead>\n",
       "    <tr style=\"text-align: right;\">\n",
       "      <th></th>\n",
       "      <th>user_id</th>\n",
       "      <th>date</th>\n",
       "      <th>post</th>\n",
       "      <th>Name_Surname</th>\n",
       "      <th>activities</th>\n",
       "      <th>bdate</th>\n",
       "      <th>city</th>\n",
       "      <th>comments</th>\n",
       "      <th>comments_count</th>\n",
       "      <th>education_status</th>\n",
       "      <th>faculty_name</th>\n",
       "      <th>graduation_year</th>\n",
       "      <th>interests</th>\n",
       "      <th>key_word</th>\n",
       "      <th>likes_count</th>\n",
       "      <th>platform</th>\n",
       "      <th>post_id</th>\n",
       "      <th>reposts_count</th>\n",
       "      <th>sex</th>\n",
       "      <th>site</th>\n",
       "      <th>university</th>\n",
       "      <th>users_liked</th>\n",
       "      <th>users_reposted</th>\n",
       "      <th>work_place</th>\n",
       "      <th>work_type</th>\n",
       "      <th>doctor</th>\n",
       "      <th>oculist</th>\n",
       "      <th>pediator</th>\n",
       "      <th>client</th>\n",
       "      <th>trash</th>\n",
       "      <th>post_count_per_user</th>\n",
       "      <th>same_post_count</th>\n",
       "      <th>users_count_per_post</th>\n",
       "      <th>same_post_count_per_user</th>\n",
       "      <th>post_kosmet_keyword_work_set</th>\n",
       "      <th>post_kosmet_keyword_work_count</th>\n",
       "      <th>post_kosmet_keyword_act_set</th>\n",
       "      <th>post_kosmet_keyword_act_count</th>\n",
       "      <th>post_kosmet_keyword_web_set</th>\n",
       "      <th>post_kosmet_keyword_web_count</th>\n",
       "      <th>post_isanimals</th>\n",
       "      <th>post_kosmet_sum</th>\n",
       "    </tr>\n",
       "  </thead>\n",
       "  <tbody>\n",
       "    <tr>\n",
       "      <th>0</th>\n",
       "      <td>636</td>\n",
       "      <td>2014-01-01 22:52:18</td>\n",
       "      <td>Добро пожаловать, гости дорогие.</td>\n",
       "      <td>Alexander_Belyaev</td>\n",
       "      <td>NaN</td>\n",
       "      <td>1.5.1989</td>\n",
       "      <td>Pushkin</td>\n",
       "      <td>{'count': 4, 'items': [{'id': 28137, 'from_id'...</td>\n",
       "      <td>4</td>\n",
       "      <td>NaN</td>\n",
       "      <td>NaN</td>\n",
       "      <td>0.0</td>\n",
       "      <td>NaN</td>\n",
       "      <td>красный глаз помогите</td>\n",
       "      <td>27</td>\n",
       "      <td>vk</td>\n",
       "      <td>28136.0</td>\n",
       "      <td>16</td>\n",
       "      <td>Male</td>\n",
       "      <td>http://vk.com/dekadence</td>\n",
       "      <td>NaN</td>\n",
       "      <td>{'count': 27, 'items': [542303, 776496, 103315...</td>\n",
       "      <td>{'count': 16, 'items': [-45399178, -38699240, ...</td>\n",
       "      <td>Гражданин Пушкин</td>\n",
       "      <td>work</td>\n",
       "      <td>0</td>\n",
       "      <td>0</td>\n",
       "      <td>0</td>\n",
       "      <td>0</td>\n",
       "      <td>0</td>\n",
       "      <td>1</td>\n",
       "      <td>1</td>\n",
       "      <td>1</td>\n",
       "      <td>1</td>\n",
       "      <td>[]</td>\n",
       "      <td>0</td>\n",
       "      <td>[]</td>\n",
       "      <td>0</td>\n",
       "      <td>[]</td>\n",
       "      <td>0</td>\n",
       "      <td>0</td>\n",
       "      <td>0</td>\n",
       "    </tr>\n",
       "  </tbody>\n",
       "</table>\n",
       "</div>"
      ],
      "text/plain": [
       "   user_id                 date                              post  \\\n",
       "0      636  2014-01-01 22:52:18  Добро пожаловать, гости дорогие.   \n",
       "\n",
       "        Name_Surname activities     bdate     city  \\\n",
       "0  Alexander_Belyaev        NaN  1.5.1989  Pushkin   \n",
       "\n",
       "                                            comments  comments_count  \\\n",
       "0  {'count': 4, 'items': [{'id': 28137, 'from_id'...               4   \n",
       "\n",
       "  education_status faculty_name  graduation_year interests  \\\n",
       "0              NaN          NaN              0.0       NaN   \n",
       "\n",
       "                key_word  likes_count platform  post_id  reposts_count   sex  \\\n",
       "0  красный глаз помогите           27       vk  28136.0             16  Male   \n",
       "\n",
       "                       site university  \\\n",
       "0  http://vk.com/dekadence         NaN   \n",
       "\n",
       "                                         users_liked  \\\n",
       "0  {'count': 27, 'items': [542303, 776496, 103315...   \n",
       "\n",
       "                                      users_reposted        work_place  \\\n",
       "0  {'count': 16, 'items': [-45399178, -38699240, ...  Гражданин Пушкин   \n",
       "\n",
       "  work_type  doctor  oculist  pediator  client  trash  post_count_per_user  \\\n",
       "0      work       0        0         0       0      0                    1   \n",
       "\n",
       "   same_post_count  users_count_per_post  same_post_count_per_user  \\\n",
       "0                1                     1                         1   \n",
       "\n",
       "  post_kosmet_keyword_work_set  post_kosmet_keyword_work_count  \\\n",
       "0                           []                               0   \n",
       "\n",
       "  post_kosmet_keyword_act_set  post_kosmet_keyword_act_count  \\\n",
       "0                          []                              0   \n",
       "\n",
       "  post_kosmet_keyword_web_set  post_kosmet_keyword_web_count  post_isanimals  \\\n",
       "0                          []                              0               0   \n",
       "\n",
       "   post_kosmet_sum  \n",
       "0                0  "
      ]
     },
     "execution_count": 45,
     "metadata": {},
     "output_type": "execute_result"
    }
   ],
   "source": [
    "df_short.head(1)"
   ]
  },
  {
   "cell_type": "markdown",
   "metadata": {},
   "source": [
    "## Idea N1 Start"
   ]
  },
  {
   "cell_type": "code",
   "execution_count": 10,
   "metadata": {
    "scrolled": true
   },
   "outputs": [],
   "source": [
    "#counting number of user and reseting index\n",
    "df_user_count=df_short.user_id.value_counts().reset_index()\n",
    "\n",
    "#renaming columns names\n",
    "df_user_count.rename(columns={\"user_id\": \"post_count_per_user\",\"index\": \"user_id\", },inplace=True)\n",
    "\n",
    "#merging our main df_short and df_user_count dataframes\n",
    "df_short=pd.merge(df_short,df_user_count,how = 'left', on='user_id')"
   ]
  },
  {
   "cell_type": "markdown",
   "metadata": {},
   "source": [
    "## Idea N1 End"
   ]
  },
  {
   "cell_type": "markdown",
   "metadata": {},
   "source": []
  },
  {
   "cell_type": "markdown",
   "metadata": {},
   "source": [
    "## Idea N2 Start"
   ]
  },
  {
   "cell_type": "code",
   "execution_count": 11,
   "metadata": {},
   "outputs": [],
   "source": [
    "#counting number of posts and reseting index\n",
    "df_post_count=df_short.post.value_counts().reset_index()\n",
    "\n",
    "#renaming columns names\n",
    "df_post_count.rename(columns={\"post\": \"same_post_count\",\"index\": \"post\", },inplace=True)\n",
    "\n",
    "#merging our main df_short and df_post_count dataframes\n",
    "df_short=pd.merge(df_short,df_post_count,how = 'left', on='post')"
   ]
  },
  {
   "cell_type": "markdown",
   "metadata": {},
   "source": [
    "## Idea N2 End"
   ]
  },
  {
   "cell_type": "markdown",
   "metadata": {},
   "source": []
  },
  {
   "cell_type": "markdown",
   "metadata": {},
   "source": [
    "## Idea N3 Start"
   ]
  },
  {
   "cell_type": "code",
   "execution_count": 12,
   "metadata": {},
   "outputs": [],
   "source": [
    "#groupping by post and taking the number of users with that post\n",
    "df_same_post_per_user = df_short.groupby('post')['user_id'].apply(lambda x :len(set(x)))\n",
    "\n",
    "#crearing dataframe and resetting index\n",
    "df_same_post_per_user = pd.DataFrame(df_same_post_per_user).reset_index()\n",
    "\n",
    "#renaming column name\n",
    "df_same_post_per_user.rename(columns={\"user_id\": \"users_count_per_post\", },inplace=True)\n",
    "\n",
    "#merging our main df_short and df_same_post_per_user dataframes\n",
    "df_short=pd.merge(df_short,df_same_post_per_user,how = 'left', on='post')"
   ]
  },
  {
   "cell_type": "markdown",
   "metadata": {},
   "source": [
    "## Idea N3 Start"
   ]
  },
  {
   "cell_type": "markdown",
   "metadata": {},
   "source": []
  },
  {
   "cell_type": "markdown",
   "metadata": {},
   "source": [
    "## Idea N4 Start"
   ]
  },
  {
   "cell_type": "code",
   "execution_count": 13,
   "metadata": {
    "scrolled": true
   },
   "outputs": [],
   "source": [
    "#groupping per user_id and short_post to count how many of the same posts exist per user\n",
    "df_short_gr = df_short.groupby(['user_id','short_post'])['user_id','short_post'].count()\n",
    "\n",
    "#renaming columns names and reseting index\n",
    "df_short_gr.rename(columns={\"user_id\": \"user_count\", \"short_post\": \"same_post_count_per_user\"},inplace=True) \n",
    "df_short_gr.reset_index(inplace = True)\n",
    "\n",
    "#merging our main df_short and df_short_gr dataframes\n",
    "df_short=pd.merge(df_short,df_short_gr,how = 'left', on=['user_id','short_post']) # ppu_count --> post per user\n",
    "\n",
    "#dropping redundant columns\n",
    "df_short.drop(['short_post','user_count'],axis=1, inplace=True)"
   ]
  },
  {
   "cell_type": "markdown",
   "metadata": {},
   "source": [
    "## Idea N4 End"
   ]
  },
  {
   "cell_type": "code",
   "execution_count": 14,
   "metadata": {},
   "outputs": [
    {
     "data": {
      "text/html": [
       "<div>\n",
       "<style scoped>\n",
       "    .dataframe tbody tr th:only-of-type {\n",
       "        vertical-align: middle;\n",
       "    }\n",
       "\n",
       "    .dataframe tbody tr th {\n",
       "        vertical-align: top;\n",
       "    }\n",
       "\n",
       "    .dataframe thead th {\n",
       "        text-align: right;\n",
       "    }\n",
       "</style>\n",
       "<table border=\"1\" class=\"dataframe\">\n",
       "  <thead>\n",
       "    <tr style=\"text-align: right;\">\n",
       "      <th></th>\n",
       "      <th>user_id</th>\n",
       "      <th>date</th>\n",
       "      <th>post</th>\n",
       "      <th>Name_Surname</th>\n",
       "      <th>activities</th>\n",
       "      <th>bdate</th>\n",
       "      <th>city</th>\n",
       "      <th>comments</th>\n",
       "      <th>comments_count</th>\n",
       "      <th>education_status</th>\n",
       "      <th>faculty_name</th>\n",
       "      <th>graduation_year</th>\n",
       "      <th>interests</th>\n",
       "      <th>key_word</th>\n",
       "      <th>likes_count</th>\n",
       "      <th>platform</th>\n",
       "      <th>post_id</th>\n",
       "      <th>reposts_count</th>\n",
       "      <th>sex</th>\n",
       "      <th>site</th>\n",
       "      <th>university</th>\n",
       "      <th>users_liked</th>\n",
       "      <th>users_reposted</th>\n",
       "      <th>work_place</th>\n",
       "      <th>work_type</th>\n",
       "      <th>doctor</th>\n",
       "      <th>oculist</th>\n",
       "      <th>pediator</th>\n",
       "      <th>client</th>\n",
       "      <th>trash</th>\n",
       "      <th>post_count_per_user</th>\n",
       "      <th>same_post_count</th>\n",
       "      <th>users_count_per_post</th>\n",
       "      <th>same_post_count_per_user</th>\n",
       "    </tr>\n",
       "  </thead>\n",
       "  <tbody>\n",
       "    <tr>\n",
       "      <th>0</th>\n",
       "      <td>636</td>\n",
       "      <td>2014-01-01 22:52:18</td>\n",
       "      <td>Добро пожаловать, гости дорогие.</td>\n",
       "      <td>Alexander_Belyaev</td>\n",
       "      <td>NaN</td>\n",
       "      <td>1.5.1989</td>\n",
       "      <td>Pushkin</td>\n",
       "      <td>{'count': 4, 'items': [{'id': 28137, 'from_id'...</td>\n",
       "      <td>4</td>\n",
       "      <td>NaN</td>\n",
       "      <td>NaN</td>\n",
       "      <td>0.0</td>\n",
       "      <td>NaN</td>\n",
       "      <td>красный глаз помогите</td>\n",
       "      <td>27</td>\n",
       "      <td>vk</td>\n",
       "      <td>28136.0</td>\n",
       "      <td>16</td>\n",
       "      <td>Male</td>\n",
       "      <td>http://vk.com/dekadence</td>\n",
       "      <td>NaN</td>\n",
       "      <td>{'count': 27, 'items': [542303, 776496, 103315...</td>\n",
       "      <td>{'count': 16, 'items': [-45399178, -38699240, ...</td>\n",
       "      <td>Гражданин Пушкин</td>\n",
       "      <td>work</td>\n",
       "      <td>0</td>\n",
       "      <td>0</td>\n",
       "      <td>0</td>\n",
       "      <td>0</td>\n",
       "      <td>0</td>\n",
       "      <td>1</td>\n",
       "      <td>1</td>\n",
       "      <td>1</td>\n",
       "      <td>1</td>\n",
       "    </tr>\n",
       "  </tbody>\n",
       "</table>\n",
       "</div>"
      ],
      "text/plain": [
       "   user_id                 date                              post  \\\n",
       "0      636  2014-01-01 22:52:18  Добро пожаловать, гости дорогие.   \n",
       "\n",
       "        Name_Surname activities     bdate     city  \\\n",
       "0  Alexander_Belyaev        NaN  1.5.1989  Pushkin   \n",
       "\n",
       "                                            comments  comments_count  \\\n",
       "0  {'count': 4, 'items': [{'id': 28137, 'from_id'...               4   \n",
       "\n",
       "  education_status faculty_name  graduation_year interests  \\\n",
       "0              NaN          NaN              0.0       NaN   \n",
       "\n",
       "                key_word  likes_count platform  post_id  reposts_count   sex  \\\n",
       "0  красный глаз помогите           27       vk  28136.0             16  Male   \n",
       "\n",
       "                       site university  \\\n",
       "0  http://vk.com/dekadence         NaN   \n",
       "\n",
       "                                         users_liked  \\\n",
       "0  {'count': 27, 'items': [542303, 776496, 103315...   \n",
       "\n",
       "                                      users_reposted        work_place  \\\n",
       "0  {'count': 16, 'items': [-45399178, -38699240, ...  Гражданин Пушкин   \n",
       "\n",
       "  work_type  doctor  oculist  pediator  client  trash  post_count_per_user  \\\n",
       "0      work       0        0         0       0      0                    1   \n",
       "\n",
       "   same_post_count  users_count_per_post  same_post_count_per_user  \n",
       "0                1                     1                         1  "
      ]
     },
     "execution_count": 14,
     "metadata": {},
     "output_type": "execute_result"
    }
   ],
   "source": [
    "pd.options.display.max_columns=50\n",
    "df_short.head(1)"
   ]
  },
  {
   "cell_type": "code",
   "execution_count": 16,
   "metadata": {},
   "outputs": [],
   "source": [
    "df_short = df_short[df_short.post_count_per_user<80]\n",
    "df_short = df_short[df_short.same_post_count<20]\n",
    "df_short = df_short[df_short.users_count_per_post<20]\n",
    "df_short = df_short[df_short.same_post_count_per_user<15]"
   ]
  },
  {
   "cell_type": "code",
   "execution_count": 19,
   "metadata": {},
   "outputs": [
    {
     "name": "stdout",
     "output_type": "stream",
     "text": [
      "Wall time: 22.8 s\n"
     ]
    }
   ],
   "source": [
    "%%time\n",
    "#trash\n",
    "df_short['post_kosmet_keyword_work_set'] = df_short.apply(lambda x: find_words(x,kosmet_keyword_work,'post','set'),axis=1)\n",
    "df_short['post_kosmet_keyword_work_count'] = df_short.apply(lambda x: find_words(x,kosmet_keyword_work,'post','count'),axis=1)"
   ]
  },
  {
   "cell_type": "code",
   "execution_count": 20,
   "metadata": {},
   "outputs": [
    {
     "name": "stdout",
     "output_type": "stream",
     "text": [
      "Wall time: 23.6 s\n"
     ]
    }
   ],
   "source": [
    "%%time\n",
    "#trash\n",
    "df_short['post_kosmet_keyword_act_set'] = df_short.apply(lambda x: find_words(x,kosmet_keyword_act,'post','set'),axis=1)\n",
    "df_short['post_kosmet_keyword_act_count'] = df_short.apply(lambda x: find_words(x,kosmet_keyword_act,'post','count'),axis=1)"
   ]
  },
  {
   "cell_type": "code",
   "execution_count": 21,
   "metadata": {},
   "outputs": [
    {
     "name": "stdout",
     "output_type": "stream",
     "text": [
      "Wall time: 16.5 s\n"
     ]
    }
   ],
   "source": [
    "%%time\n",
    "df_short['post_kosmet_keyword_web_set'] = df_short.apply(lambda x: find_words(x,kosmet_keyword_web,'post','set'),axis=1)\n",
    "df_short['post_kosmet_keyword_web_count'] = df_short.apply(lambda x: find_words(x,kosmet_keyword_web,'post','count'),axis=1)"
   ]
  },
  {
   "cell_type": "code",
   "execution_count": 22,
   "metadata": {},
   "outputs": [
    {
     "name": "stdout",
     "output_type": "stream",
     "text": [
      "Wall time: 8.81 s\n"
     ]
    }
   ],
   "source": [
    "%%time\n",
    "#animals\n",
    "df_short['post_isanimals'] = df_short.apply(lambda x: find_words(x,list_of_animals,'post','exist'),axis=1)"
   ]
  },
  {
   "cell_type": "code",
   "execution_count": 26,
   "metadata": {},
   "outputs": [],
   "source": [
    "df_short['post_kosmet_sum'] = df_short['post_kosmet_keyword_work_count'] + df_short['post_kosmet_keyword_act_count'] +\\\n",
    "df_short['post_kosmet_keyword_web_count']+df_short['trash']"
   ]
  },
  {
   "cell_type": "code",
   "execution_count": 31,
   "metadata": {},
   "outputs": [],
   "source": [
    "tr=df_short[df_short['post_kosmet_sum']==0]\n",
    "tr=tr[~tr.user_id.isin(drop_user_ids)]"
   ]
  },
  {
   "cell_type": "code",
   "execution_count": 33,
   "metadata": {},
   "outputs": [],
   "source": [
    "tr_nonanimal=tr[tr.post_isanimals==0]"
   ]
  },
  {
   "cell_type": "code",
   "execution_count": 46,
   "metadata": {},
   "outputs": [
    {
     "name": "stderr",
     "output_type": "stream",
     "text": [
      "c:\\users\\levon-pc\\anaconda3\\envs\\vk\\lib\\site-packages\\ipykernel_launcher.py:1: SettingWithCopyWarning: \n",
      "A value is trying to be set on a copy of a slice from a DataFrame.\n",
      "Try using .loc[row_indexer,col_indexer] = value instead\n",
      "\n",
      "See the caveats in the documentation: http://pandas.pydata.org/pandas-docs/stable/indexing.html#indexing-view-versus-copy\n",
      "  \"\"\"Entry point for launching an IPython kernel.\n"
     ]
    },
    {
     "name": "stdout",
     "output_type": "stream",
     "text": [
      "Wall time: 18.5 s\n"
     ]
    },
    {
     "name": "stderr",
     "output_type": "stream",
     "text": [
      "c:\\users\\levon-pc\\anaconda3\\envs\\vk\\lib\\site-packages\\ipykernel_launcher.py:2: SettingWithCopyWarning: \n",
      "A value is trying to be set on a copy of a slice from a DataFrame.\n",
      "Try using .loc[row_indexer,col_indexer] = value instead\n",
      "\n",
      "See the caveats in the documentation: http://pandas.pydata.org/pandas-docs/stable/indexing.html#indexing-view-versus-copy\n",
      "  \n"
     ]
    }
   ],
   "source": [
    "%%time\n",
    "tr_nonanimal['post_num_keywords'] = tr_nonanimal.apply(lambda x: find_words(x,list_of_keywords_posts,'post','count'),axis=1)\n",
    "tr_nonanimal['post_set_keywords'] = tr_nonanimal.apply(lambda x: find_words(x,list_of_keywords_posts,'post','set'),axis=1)"
   ]
  },
  {
   "cell_type": "code",
   "execution_count": 53,
   "metadata": {},
   "outputs": [],
   "source": []
  },
  {
   "cell_type": "code",
   "execution_count": 64,
   "metadata": {},
   "outputs": [],
   "source": [
    "tr.to_csv('cleaned_last.csv')"
   ]
  },
  {
   "cell_type": "code",
   "execution_count": null,
   "metadata": {},
   "outputs": [],
   "source": []
  },
  {
   "cell_type": "code",
   "execution_count": null,
   "metadata": {},
   "outputs": [],
   "source": []
  },
  {
   "cell_type": "code",
   "execution_count": null,
   "metadata": {},
   "outputs": [],
   "source": []
  },
  {
   "cell_type": "code",
   "execution_count": 6,
   "metadata": {},
   "outputs": [],
   "source": [
    "df.to_csv('user_info_filtered_posts.csv')"
   ]
  },
  {
   "cell_type": "code",
   "execution_count": 45,
   "metadata": {},
   "outputs": [
    {
     "data": {
      "text/plain": [
       "'ГРУППА https://vk.com/club.ortolinza26!!! Мы предоставляем нашим пациентам широкий спектр услуг в области диагностики и коррекции зрения. А ТАКЖЕ проводим необходимые исследования на самом высококачественном современном оборудовании.. Все специалисты имеют высокую квалификацию, которую мы продолжаем совершенствовать: регулярно проводятся обучающие тренинги, повышающие уровень знаний и качество обслуживания. У нас всегда можно приобрести самые качественные линзы, оправы, а также сопутствующие товары, аксессуары и средства по уходу. Наша компания сотрудничает с мировыми лидерами на рынке оптики. Мы всегда думаем о своих клиентах. У нас постоянно действуют социальные программы для детей, молодежи и пенсионеров. Акции от нашей компании радуют как постоянных, так и новых клиентов. Также мы периодически проводим конкурсы с ценными призами. Все это мы делаем для того, чтоб вы были уверены, что мы вам всегда рады, вас всегда ждут. Мы продолжаем совершенствовать себя и свои услуги каждую минуту. Все это мы делаем для того, чтобы вы ощутили радость от окружающего мира'"
      ]
     },
     "execution_count": 45,
     "metadata": {},
     "output_type": "execute_result"
    }
   ],
   "source": [
    "\"ГРУППА https://vk.com/club.ortolinza26!!! Мы предоставляем нашим пациентам широкий спектр услуг в области диагностики и коррекции зрения. А ТАКЖЕ проводим необходимые исследования на самом высококачественном современном оборудовании.. Все специалисты имеют высокую квалификацию, которую мы продолжаем совершенствовать: регулярно проводятся обучающие тренинги, повышающие уровень знаний и качество обслуживания. У нас всегда можно приобрести самые качественные линзы, оправы, а также сопутствующие товары, аксессуары и средства по уходу. Наша компания сотрудничает с мировыми лидерами на рынке оптики. Мы всегда думаем о своих клиентах. У нас постоянно действуют социальные программы для детей, молодежи и пенсионеров. Акции от нашей компании радуют как постоянных, так и новых клиентов. Также мы периодически проводим конкурсы с ценными призами. Все это мы делаем для того, чтоб вы были уверены, что мы вам всегда рады, вас всегда ждут. Мы продолжаем совершенствовать себя и свои услуги каждую минуту. Все это мы делаем для того, чтобы вы ощутили радость от окружающего мира\""
   ]
  },
  {
   "cell_type": "code",
   "execution_count": null,
   "metadata": {},
   "outputs": [],
   "source": [
    "БЕСПЛАТНЫЕ  Cсылка  регистрацию  шанс   #оптика  #цветные_линзы #контактные_линзы"
   ]
  },
  {
   "cell_type": "code",
   "execution_count": 41,
   "metadata": {},
   "outputs": [
    {
     "data": {
      "text/plain": [
       "'➡Тесты для проверки зрения | Хотите - верьте, хотите - нет!<br><br>Всем друзьям и просто хорошим людям - Доброе Утро! ☀<br><br>Если символы на зеленом фоне вам кажутся более четкими, это значит, что у вас, скорее всего, дальнозоркость. Если же наоборот — то у вас начинают проявляться первые признаки близорукости. <br><br>Офтальмологическая консультация - http://zir.ck.ua/on-line-consultation<br><br>#глаза #здоровье_глаз #офтальмолог #вопрос_офтальмологу #зрение #оптика #цветные_линзы #контактные_линзы'"
      ]
     },
     "execution_count": 41,
     "metadata": {},
     "output_type": "execute_result"
    }
   ],
   "source": [
    "tr[tr.user_id==367495578].post.iloc[2]"
   ]
  },
  {
   "cell_type": "code",
   "execution_count": 157,
   "metadata": {
    "scrolled": true
   },
   "outputs": [],
   "source": [
    "short_df = df[df['post']!='Too Long'].reset_index().drop('index', axis = 1)\n",
    "short = pd.DataFrame(df_short.key_word.value_counts()/df_short.shape[0])\n",
    "short.reset_index(inplace=True)\n",
    "short.rename(columns={\"index\": \"key_word\", \"key_word\": \"short_metric\"},inplace=True)\n",
    "main =  pd.DataFrame(df.key_word.value_counts()/df.shape[0])\n",
    "main.reset_index(inplace=True)\n",
    "main.rename(columns={\"index\": \"key_word\", \"key_word\": \"main_metric\"},inplace=True)\n",
    "shmain = pd.merge(short, main, on = 'key_word')\n",
    "shmain['diff'] = shmain['short_metric']-shmain['main_metric']"
   ]
  },
  {
   "cell_type": "code",
   "execution_count": 171,
   "metadata": {
    "collapsed": true
   },
   "outputs": [
    {
     "data": {
      "text/html": [
       "<div>\n",
       "<style scoped>\n",
       "    .dataframe tbody tr th:only-of-type {\n",
       "        vertical-align: middle;\n",
       "    }\n",
       "\n",
       "    .dataframe tbody tr th {\n",
       "        vertical-align: top;\n",
       "    }\n",
       "\n",
       "    .dataframe thead th {\n",
       "        text-align: right;\n",
       "    }\n",
       "</style>\n",
       "<table border=\"1\" class=\"dataframe\">\n",
       "  <thead>\n",
       "    <tr style=\"text-align: right;\">\n",
       "      <th></th>\n",
       "      <th>key_word</th>\n",
       "      <th>short_metric</th>\n",
       "      <th>main_metric</th>\n",
       "      <th>diff</th>\n",
       "    </tr>\n",
       "  </thead>\n",
       "  <tbody>\n",
       "    <tr>\n",
       "      <th>0</th>\n",
       "      <td>#глаза</td>\n",
       "      <td>0.563148</td>\n",
       "      <td>0.185544</td>\n",
       "      <td>0.377604</td>\n",
       "    </tr>\n",
       "    <tr>\n",
       "      <th>2</th>\n",
       "      <td>#глазки</td>\n",
       "      <td>0.150444</td>\n",
       "      <td>0.042728</td>\n",
       "      <td>0.107717</td>\n",
       "    </tr>\n",
       "    <tr>\n",
       "      <th>3</th>\n",
       "      <td>#зрение</td>\n",
       "      <td>0.022413</td>\n",
       "      <td>0.007278</td>\n",
       "      <td>0.015135</td>\n",
       "    </tr>\n",
       "    <tr>\n",
       "      <th>4</th>\n",
       "      <td>#офтальмология</td>\n",
       "      <td>0.011081</td>\n",
       "      <td>0.004974</td>\n",
       "      <td>0.006108</td>\n",
       "    </tr>\n",
       "    <tr>\n",
       "      <th>5</th>\n",
       "      <td>#офтальмолог</td>\n",
       "      <td>0.007388</td>\n",
       "      <td>0.002208</td>\n",
       "      <td>0.005179</td>\n",
       "    </tr>\n",
       "    <tr>\n",
       "      <th>7</th>\n",
       "      <td>#ячмень</td>\n",
       "      <td>0.003561</td>\n",
       "      <td>0.000994</td>\n",
       "      <td>0.002567</td>\n",
       "    </tr>\n",
       "    <tr>\n",
       "      <th>8</th>\n",
       "      <td>#лазернаякоррекциязрения</td>\n",
       "      <td>0.003444</td>\n",
       "      <td>0.000986</td>\n",
       "      <td>0.002458</td>\n",
       "    </tr>\n",
       "    <tr>\n",
       "      <th>11</th>\n",
       "      <td>#близорукость</td>\n",
       "      <td>0.002149</td>\n",
       "      <td>0.000826</td>\n",
       "      <td>0.001323</td>\n",
       "    </tr>\n",
       "    <tr>\n",
       "      <th>13</th>\n",
       "      <td>#лазернаякоррекция</td>\n",
       "      <td>0.001898</td>\n",
       "      <td>0.000549</td>\n",
       "      <td>0.001349</td>\n",
       "    </tr>\n",
       "    <tr>\n",
       "      <th>14</th>\n",
       "      <td>#lasik</td>\n",
       "      <td>0.001737</td>\n",
       "      <td>0.000513</td>\n",
       "      <td>0.001224</td>\n",
       "    </tr>\n",
       "    <tr>\n",
       "      <th>15</th>\n",
       "      <td>#косоглазие</td>\n",
       "      <td>0.001369</td>\n",
       "      <td>0.000425</td>\n",
       "      <td>0.000944</td>\n",
       "    </tr>\n",
       "    <tr>\n",
       "      <th>16</th>\n",
       "      <td>#катаракта</td>\n",
       "      <td>0.001310</td>\n",
       "      <td>0.000473</td>\n",
       "      <td>0.000837</td>\n",
       "    </tr>\n",
       "    <tr>\n",
       "      <th>17</th>\n",
       "      <td>закисает глазик</td>\n",
       "      <td>0.000942</td>\n",
       "      <td>0.000361</td>\n",
       "      <td>0.000581</td>\n",
       "    </tr>\n",
       "    <tr>\n",
       "      <th>18</th>\n",
       "      <td>#глаукома</td>\n",
       "      <td>0.000824</td>\n",
       "      <td>0.000240</td>\n",
       "      <td>0.000584</td>\n",
       "    </tr>\n",
       "    <tr>\n",
       "      <th>19</th>\n",
       "      <td>#косоглазиеэтосексуально</td>\n",
       "      <td>0.000765</td>\n",
       "      <td>0.000208</td>\n",
       "      <td>0.000557</td>\n",
       "    </tr>\n",
       "    <tr>\n",
       "      <th>20</th>\n",
       "      <td>#астигматизм</td>\n",
       "      <td>0.000721</td>\n",
       "      <td>0.000220</td>\n",
       "      <td>0.000501</td>\n",
       "    </tr>\n",
       "    <tr>\n",
       "      <th>21</th>\n",
       "      <td>#ласик</td>\n",
       "      <td>0.000486</td>\n",
       "      <td>0.000136</td>\n",
       "      <td>0.000349</td>\n",
       "    </tr>\n",
       "    <tr>\n",
       "      <th>22</th>\n",
       "      <td>#птоз</td>\n",
       "      <td>0.000456</td>\n",
       "      <td>0.000140</td>\n",
       "      <td>0.000316</td>\n",
       "    </tr>\n",
       "    <tr>\n",
       "      <th>23</th>\n",
       "      <td>#миопия</td>\n",
       "      <td>0.000427</td>\n",
       "      <td>0.000116</td>\n",
       "      <td>0.000311</td>\n",
       "    </tr>\n",
       "    <tr>\n",
       "      <th>24</th>\n",
       "      <td>#лечениеглаз</td>\n",
       "      <td>0.000338</td>\n",
       "      <td>0.000116</td>\n",
       "      <td>0.000222</td>\n",
       "    </tr>\n",
       "    <tr>\n",
       "      <th>25</th>\n",
       "      <td>#фрк</td>\n",
       "      <td>0.000324</td>\n",
       "      <td>0.000096</td>\n",
       "      <td>0.000228</td>\n",
       "    </tr>\n",
       "    <tr>\n",
       "      <th>26</th>\n",
       "      <td>#дальнозоркость</td>\n",
       "      <td>0.000235</td>\n",
       "      <td>0.000160</td>\n",
       "      <td>0.000075</td>\n",
       "    </tr>\n",
       "    <tr>\n",
       "      <th>28</th>\n",
       "      <td>#детскийофтальмолог</td>\n",
       "      <td>0.000191</td>\n",
       "      <td>0.000052</td>\n",
       "      <td>0.000139</td>\n",
       "    </tr>\n",
       "    <tr>\n",
       "      <th>30</th>\n",
       "      <td>#амблиопия</td>\n",
       "      <td>0.000103</td>\n",
       "      <td>0.000076</td>\n",
       "      <td>0.000027</td>\n",
       "    </tr>\n",
       "    <tr>\n",
       "      <th>31</th>\n",
       "      <td>бинокулярное зрение, 3D-формат</td>\n",
       "      <td>0.000088</td>\n",
       "      <td>0.000044</td>\n",
       "      <td>0.000044</td>\n",
       "    </tr>\n",
       "    <tr>\n",
       "      <th>33</th>\n",
       "      <td>#косоглазиенепорок</td>\n",
       "      <td>0.000088</td>\n",
       "      <td>0.000024</td>\n",
       "      <td>0.000064</td>\n",
       "    </tr>\n",
       "    <tr>\n",
       "      <th>34</th>\n",
       "      <td>#халязион</td>\n",
       "      <td>0.000088</td>\n",
       "      <td>0.000024</td>\n",
       "      <td>0.000064</td>\n",
       "    </tr>\n",
       "    <tr>\n",
       "      <th>36</th>\n",
       "      <td>#лечениезрения</td>\n",
       "      <td>0.000088</td>\n",
       "      <td>0.000024</td>\n",
       "      <td>0.000064</td>\n",
       "    </tr>\n",
       "    <tr>\n",
       "      <th>37</th>\n",
       "      <td>#близорукостьонатакая</td>\n",
       "      <td>0.000074</td>\n",
       "      <td>0.000020</td>\n",
       "      <td>0.000054</td>\n",
       "    </tr>\n",
       "    <tr>\n",
       "      <th>38</th>\n",
       "      <td>#детскоезрение</td>\n",
       "      <td>0.000074</td>\n",
       "      <td>0.000036</td>\n",
       "      <td>0.000038</td>\n",
       "    </tr>\n",
       "    <tr>\n",
       "      <th>39</th>\n",
       "      <td>#птозвек</td>\n",
       "      <td>0.000044</td>\n",
       "      <td>0.000016</td>\n",
       "      <td>0.000028</td>\n",
       "    </tr>\n",
       "    <tr>\n",
       "      <th>41</th>\n",
       "      <td>#близорукостьнеприговор</td>\n",
       "      <td>0.000029</td>\n",
       "      <td>0.000008</td>\n",
       "      <td>0.000021</td>\n",
       "    </tr>\n",
       "    <tr>\n",
       "      <th>42</th>\n",
       "      <td>#нистагм</td>\n",
       "      <td>0.000029</td>\n",
       "      <td>0.000008</td>\n",
       "      <td>0.000021</td>\n",
       "    </tr>\n",
       "    <tr>\n",
       "      <th>43</th>\n",
       "      <td>#дальнозоркости</td>\n",
       "      <td>0.000029</td>\n",
       "      <td>0.000016</td>\n",
       "      <td>0.000013</td>\n",
       "    </tr>\n",
       "    <tr>\n",
       "      <th>44</th>\n",
       "      <td>#лечениеблизорукости</td>\n",
       "      <td>0.000029</td>\n",
       "      <td>0.000008</td>\n",
       "      <td>0.000021</td>\n",
       "    </tr>\n",
       "    <tr>\n",
       "      <th>45</th>\n",
       "      <td>#близорукостьнепорок</td>\n",
       "      <td>0.000029</td>\n",
       "      <td>0.000008</td>\n",
       "      <td>0.000021</td>\n",
       "    </tr>\n",
       "    <tr>\n",
       "      <th>46</th>\n",
       "      <td>#офтальмохирургия</td>\n",
       "      <td>0.000029</td>\n",
       "      <td>0.000016</td>\n",
       "      <td>0.000013</td>\n",
       "    </tr>\n",
       "    <tr>\n",
       "      <th>47</th>\n",
       "      <td>#зондированиеноворождённых</td>\n",
       "      <td>0.000029</td>\n",
       "      <td>0.000008</td>\n",
       "      <td>0.000021</td>\n",
       "    </tr>\n",
       "    <tr>\n",
       "      <th>48</th>\n",
       "      <td>как носить окклюдер/заклейку</td>\n",
       "      <td>0.000015</td>\n",
       "      <td>0.000004</td>\n",
       "      <td>0.000011</td>\n",
       "    </tr>\n",
       "    <tr>\n",
       "      <th>50</th>\n",
       "      <td>#астигматизмлечение</td>\n",
       "      <td>0.000015</td>\n",
       "      <td>0.000004</td>\n",
       "      <td>0.000011</td>\n",
       "    </tr>\n",
       "    <tr>\n",
       "      <th>51</th>\n",
       "      <td>#дакриоцистит</td>\n",
       "      <td>0.000015</td>\n",
       "      <td>0.000004</td>\n",
       "      <td>0.000011</td>\n",
       "    </tr>\n",
       "    <tr>\n",
       "      <th>52</th>\n",
       "      <td>#глаукомалечение</td>\n",
       "      <td>0.000015</td>\n",
       "      <td>0.000004</td>\n",
       "      <td>0.000011</td>\n",
       "    </tr>\n",
       "    <tr>\n",
       "      <th>55</th>\n",
       "      <td>#офтальмологмосква</td>\n",
       "      <td>0.000015</td>\n",
       "      <td>0.000004</td>\n",
       "      <td>0.000011</td>\n",
       "    </tr>\n",
       "  </tbody>\n",
       "</table>\n",
       "</div>"
      ],
      "text/plain": [
       "                           key_word  short_metric  main_metric      diff\n",
       "0                            #глаза      0.563148     0.185544  0.377604\n",
       "2                           #глазки      0.150444     0.042728  0.107717\n",
       "3                           #зрение      0.022413     0.007278  0.015135\n",
       "4                    #офтальмология      0.011081     0.004974  0.006108\n",
       "5                      #офтальмолог      0.007388     0.002208  0.005179\n",
       "7                           #ячмень      0.003561     0.000994  0.002567\n",
       "8          #лазернаякоррекциязрения      0.003444     0.000986  0.002458\n",
       "11                    #близорукость      0.002149     0.000826  0.001323\n",
       "13               #лазернаякоррекция      0.001898     0.000549  0.001349\n",
       "14                           #lasik      0.001737     0.000513  0.001224\n",
       "15                      #косоглазие      0.001369     0.000425  0.000944\n",
       "16                       #катаракта      0.001310     0.000473  0.000837\n",
       "17                  закисает глазик      0.000942     0.000361  0.000581\n",
       "18                        #глаукома      0.000824     0.000240  0.000584\n",
       "19         #косоглазиеэтосексуально      0.000765     0.000208  0.000557\n",
       "20                     #астигматизм      0.000721     0.000220  0.000501\n",
       "21                           #ласик      0.000486     0.000136  0.000349\n",
       "22                            #птоз      0.000456     0.000140  0.000316\n",
       "23                          #миопия      0.000427     0.000116  0.000311\n",
       "24                     #лечениеглаз      0.000338     0.000116  0.000222\n",
       "25                             #фрк      0.000324     0.000096  0.000228\n",
       "26                  #дальнозоркость      0.000235     0.000160  0.000075\n",
       "28              #детскийофтальмолог      0.000191     0.000052  0.000139\n",
       "30                       #амблиопия      0.000103     0.000076  0.000027\n",
       "31  бинокулярное зрение, 3D-формат       0.000088     0.000044  0.000044\n",
       "33               #косоглазиенепорок      0.000088     0.000024  0.000064\n",
       "34                        #халязион      0.000088     0.000024  0.000064\n",
       "36                   #лечениезрения      0.000088     0.000024  0.000064\n",
       "37            #близорукостьонатакая      0.000074     0.000020  0.000054\n",
       "38                   #детскоезрение      0.000074     0.000036  0.000038\n",
       "39                         #птозвек      0.000044     0.000016  0.000028\n",
       "41          #близорукостьнеприговор      0.000029     0.000008  0.000021\n",
       "42                         #нистагм      0.000029     0.000008  0.000021\n",
       "43                  #дальнозоркости      0.000029     0.000016  0.000013\n",
       "44             #лечениеблизорукости      0.000029     0.000008  0.000021\n",
       "45             #близорукостьнепорок      0.000029     0.000008  0.000021\n",
       "46                #офтальмохирургия      0.000029     0.000016  0.000013\n",
       "47       #зондированиеноворождённых      0.000029     0.000008  0.000021\n",
       "48     как носить окклюдер/заклейку      0.000015     0.000004  0.000011\n",
       "50              #астигматизмлечение      0.000015     0.000004  0.000011\n",
       "51                    #дакриоцистит      0.000015     0.000004  0.000011\n",
       "52                 #глаукомалечение      0.000015     0.000004  0.000011\n",
       "55               #офтальмологмосква      0.000015     0.000004  0.000011"
      ]
     },
     "execution_count": 171,
     "metadata": {},
     "output_type": "execute_result"
    }
   ],
   "source": [
    "shmain[shmain['diff']>0]"
   ]
  },
  {
   "cell_type": "code",
   "execution_count": null,
   "metadata": {},
   "outputs": [],
   "source": [
    "#a = tr.date.apply(lambda x: time.mktime(datetime.strptime(x[:10], '%Y-%m-%d').timetuple()))\n",
    "#c= b['post_set_keywords'].apply(lambda x : str(x))"
   ]
  },
  {
   "cell_type": "code",
   "execution_count": null,
   "metadata": {},
   "outputs": [],
   "source": [
    "закисает глазик\n",
    "- косит глазик, убегает глаз\n",
    "- красный глаз помогите\n",
    "- гимнастика для глаз, ортоптисты, Бейтс, Норбеков\n",
    "- убрать нистагм, вылечить нистагм\n",
    "- сколько операций нужно на косоглазие \n",
    "- подскажите верно ли назначили лечение\n",
    "- какие очки, линзы для детей \n",
    "- ЧАЗН, паралитическое косоглазие, лечение и диагностика ЧАЗН\n",
    "- сколько стоит операция на нистагм/косоглазие/лазерная коррекция, оперируете\n",
    "расходящееся/сходящееся косоглазие, операция под наркозом?\n",
    "- какие именно аппараты будут делать на аппаратном лечении, стоимость аппаратного\n",
    "лечения,\n",
    "- можно ли нам капать, подскажите капли\n",
    "- что такое очки амблиз\n",
    "- как носить окклюдер/заклейку\n",
    "- бинокулярное зрение, 3D-формат \n",
    "- как лечить близорукость\n",
    "- что лучше носить очки или линзы?\n",
    "- до 18 лет лазерную коррекцию делать нельзя\n",
    "- склеропластика, нужно ли делать\n",
    "- очки вызывают привыкание, стоит их носить?\n",
    "- с какого возраста проводится аппаратное лечение\n",
    "- есть ли шанс снять очки\n",
    "- прогрессивные очки/бифокальные очки что такое?"
   ]
  }
 ],
 "metadata": {
  "kernelspec": {
   "display_name": "Python 3",
   "language": "python",
   "name": "python3"
  },
  "language_info": {
   "codemirror_mode": {
    "name": "ipython",
    "version": 3
   },
   "file_extension": ".py",
   "mimetype": "text/x-python",
   "name": "python",
   "nbconvert_exporter": "python",
   "pygments_lexer": "ipython3",
   "version": "3.6.5"
  }
 },
 "nbformat": 4,
 "nbformat_minor": 2
}
