{
 "cells": [
  {
   "cell_type": "code",
   "execution_count": 135,
   "metadata": {},
   "outputs": [],
   "source": [
    "import vk\n",
    "import pandas as pd\n",
    "import time"
   ]
  },
  {
   "cell_type": "code",
   "execution_count": 219,
   "metadata": {},
   "outputs": [
    {
     "data": {
      "text/plain": [
       "[{'first_name': 'Alexander', 'last_name': 'Ovchinnikov', 'uid': 182927367}]"
      ]
     },
     "execution_count": 219,
     "metadata": {},
     "output_type": "execute_result"
    }
   ],
   "source": [
    "# opennig vk session with access token.\n",
    "session = vk.Session(access_token='54d58d4edda257bd4aaec6527ae8183c2967a42a157568dc4ffcf966151991eaf26237b2de81400b4a7be')\n",
    "api = vk.API(session)\n",
    "# example use with id, my id\n",
    "api.users.get(user_ids='architectofreality' )"
   ]
  },
  {
   "cell_type": "code",
   "execution_count": 103,
   "metadata": {},
   "outputs": [],
   "source": [
    "#searching for a keyword glaukoma starting 48 hours ago, max 200 counts can be scrapped at once\n",
    "glaukoma=api.newsfeed.search(q='glaukoma',count=200, start_time=48)"
   ]
  },
  {
   "cell_type": "markdown",
   "metadata": {},
   "source": [
    "### get last 200 posts --> take the time of the last post --> at the next iteration set the end time = time_last_post-1. Set the start time to 1 "
   ]
  },
  {
   "cell_type": "code",
   "execution_count": 104,
   "metadata": {},
   "outputs": [
    {
     "name": "stdout",
     "output_type": "stream",
     "text": [
      "Wall time: 178 ms\n"
     ]
    }
   ],
   "source": [
    "%%time\n",
    "glaukoma_rus=api.newsfeed.search(q='glaukoma',count=200, end_time=1512378120, start_time=1512378121-86400)"
   ]
  },
  {
   "cell_type": "code",
   "execution_count": 105,
   "metadata": {},
   "outputs": [],
   "source": [
    "# dropping the first element and creat a dataframe with the rest\n",
    "df=pd.DataFrame(glaukoma_rus[1:])"
   ]
  },
  {
   "cell_type": "code",
   "execution_count": 106,
   "metadata": {},
   "outputs": [
    {
     "data": {
      "text/html": [
       "<div>\n",
       "<style scoped>\n",
       "    .dataframe tbody tr th:only-of-type {\n",
       "        vertical-align: middle;\n",
       "    }\n",
       "\n",
       "    .dataframe tbody tr th {\n",
       "        vertical-align: top;\n",
       "    }\n",
       "\n",
       "    .dataframe thead th {\n",
       "        text-align: right;\n",
       "    }\n",
       "</style>\n",
       "<table border=\"1\" class=\"dataframe\">\n",
       "  <thead>\n",
       "    <tr style=\"text-align: right;\">\n",
       "      <th></th>\n",
       "      <th>attachment</th>\n",
       "      <th>attachments</th>\n",
       "      <th>comments</th>\n",
       "      <th>date</th>\n",
       "      <th>from_id</th>\n",
       "      <th>id</th>\n",
       "      <th>likes</th>\n",
       "      <th>marked_as_ads</th>\n",
       "      <th>owner_id</th>\n",
       "      <th>post_source</th>\n",
       "      <th>post_type</th>\n",
       "      <th>reposts</th>\n",
       "      <th>text</th>\n",
       "    </tr>\n",
       "  </thead>\n",
       "  <tbody>\n",
       "    <tr>\n",
       "      <th>0</th>\n",
       "      <td>{'type': 'photo', 'photo': {'pid': 456239772, ...</td>\n",
       "      <td>[{'type': 'photo', 'photo': {'pid': 456239772,...</td>\n",
       "      <td>{'count': 0, 'can_post': 1}</td>\n",
       "      <td>1512322597</td>\n",
       "      <td>-70740559</td>\n",
       "      <td>1034</td>\n",
       "      <td>{'count': 0, 'user_likes': 0, 'can_like': 1, '...</td>\n",
       "      <td>0</td>\n",
       "      <td>-70740559</td>\n",
       "      <td>{'type': 'api', 'platform': 'iphone'}</td>\n",
       "      <td>post</td>\n",
       "      <td>{'count': 0, 'user_reposted': 0}</td>\n",
       "      <td>Наиболее частым заболеванием хрусталика являет...</td>\n",
       "    </tr>\n",
       "  </tbody>\n",
       "</table>\n",
       "</div>"
      ],
      "text/plain": [
       "                                          attachment  \\\n",
       "0  {'type': 'photo', 'photo': {'pid': 456239772, ...   \n",
       "\n",
       "                                         attachments  \\\n",
       "0  [{'type': 'photo', 'photo': {'pid': 456239772,...   \n",
       "\n",
       "                      comments        date   from_id    id  \\\n",
       "0  {'count': 0, 'can_post': 1}  1512322597 -70740559  1034   \n",
       "\n",
       "                                               likes  marked_as_ads  owner_id  \\\n",
       "0  {'count': 0, 'user_likes': 0, 'can_like': 1, '...              0 -70740559   \n",
       "\n",
       "                             post_source post_type  \\\n",
       "0  {'type': 'api', 'platform': 'iphone'}      post   \n",
       "\n",
       "                            reposts  \\\n",
       "0  {'count': 0, 'user_reposted': 0}   \n",
       "\n",
       "                                                text  \n",
       "0  Наиболее частым заболеванием хрусталика являет...  "
      ]
     },
     "execution_count": 106,
     "metadata": {},
     "output_type": "execute_result"
    }
   ],
   "source": [
    "df.head(2)"
   ]
  },
  {
   "cell_type": "code",
   "execution_count": 107,
   "metadata": {},
   "outputs": [
    {
     "data": {
      "text/plain": [
       "Index(['attachment', 'attachments', 'comments', 'date', 'from_id', 'id',\n",
       "       'likes', 'marked_as_ads', 'owner_id', 'post_source', 'post_type',\n",
       "       'reposts', 'text'],\n",
       "      dtype='object')"
      ]
     },
     "execution_count": 107,
     "metadata": {},
     "output_type": "execute_result"
    }
   ],
   "source": [
    "df.columns"
   ]
  },
  {
   "cell_type": "code",
   "execution_count": 108,
   "metadata": {
    "scrolled": true
   },
   "outputs": [
    {
     "data": {
      "text/html": [
       "<div>\n",
       "<style scoped>\n",
       "    .dataframe tbody tr th:only-of-type {\n",
       "        vertical-align: middle;\n",
       "    }\n",
       "\n",
       "    .dataframe tbody tr th {\n",
       "        vertical-align: top;\n",
       "    }\n",
       "\n",
       "    .dataframe thead th {\n",
       "        text-align: right;\n",
       "    }\n",
       "</style>\n",
       "<table border=\"1\" class=\"dataframe\">\n",
       "  <thead>\n",
       "    <tr style=\"text-align: right;\">\n",
       "      <th></th>\n",
       "      <th>deactivated</th>\n",
       "      <th>first_name</th>\n",
       "      <th>last_name</th>\n",
       "      <th>uid</th>\n",
       "    </tr>\n",
       "  </thead>\n",
       "  <tbody>\n",
       "    <tr>\n",
       "      <th>0</th>\n",
       "      <td>deleted</td>\n",
       "      <td>Elena</td>\n",
       "      <td>Zatylkina</td>\n",
       "      <td>70740559</td>\n",
       "    </tr>\n",
       "  </tbody>\n",
       "</table>\n",
       "</div>"
      ],
      "text/plain": [
       "  deactivated first_name  last_name       uid\n",
       "0     deleted      Elena  Zatylkina  70740559"
      ]
     },
     "execution_count": 108,
     "metadata": {},
     "output_type": "execute_result"
    }
   ],
   "source": [
    "#getting info of each user, deactivated column\n",
    "ids=pd.DataFrame(api.users.get(user_ids=abs(df['owner_id'])))\n",
    "ids.head()"
   ]
  },
  {
   "cell_type": "code",
   "execution_count": 231,
   "metadata": {},
   "outputs": [
    {
     "name": "stdout",
     "output_type": "stream",
     "text": [
      "1\n",
      "2\n",
      "3\n",
      "Wall time: 14.9 s\n"
     ]
    }
   ],
   "source": [
    "%%time\n",
    "desired_time = 86400*24 # how much back we want to go in seconds\n",
    "date = time.time() # now\n",
    "excess_time = True\n",
    "all_df = pd.DataFrame()\n",
    "c=1\n",
    "while excess_time:\n",
    "    print(c) # print iteration count\n",
    "    g=api.newsfeed.search(q=['что лучше носить очки или линзы?'],count=200, end_time = date-1, start_time=1,extended=1)\n",
    "    if len(g)>1: # check if g contains data\n",
    "        all_df = pd.concat([all_df,pd.DataFrame(g[1:])])\n",
    "        date=g[-1]['date']\n",
    "    else:\n",
    "        time.sleep(0.3)\n",
    "    c+=1\n",
    "    if date<time.time()-desired_time: # check termination condition\n",
    "        excess_time = False\n",
    "\n",
    "        # resetting the index it make cicles of 0-200\n",
    "all_df.reset_index(inplace=True)\n",
    "\n",
    "# set all negative ids to positive\n",
    "all_df.owner_id=abs(all_df.owner_id) \n",
    "\n",
    " # get all users\n",
    "all_id=pd.DataFrame(api.users.get(user_ids=abs(all_df['owner_id'])))\n",
    "\n",
    "# fill active users status with valid\n",
    "all_id.fillna('Valid',inplace=True) \n",
    "\n",
    "# select all deactivated user ids\n",
    "deactivated_ids = list(all_id[all_id['deactivated']!='Valid'].uid)\n",
    "\n",
    "# select all active user posts\n",
    "active_users = all_df[-all_df.owner_id.isin(deactivated_ids)] "
   ]
  },
  {
   "cell_type": "code",
   "execution_count": 244,
   "metadata": {},
   "outputs": [
    {
     "data": {
      "text/plain": [
       "{'gid': 36620432,\n",
       " 'is_admin': 0,\n",
       " 'is_closed': 0,\n",
       " 'is_member': 0,\n",
       " 'name': 'ОПТИК-ШОП- контактные линзы доставка Тюмень!',\n",
       " 'photo': 'https://pp.userapi.com/c840124/v840124562/38669/l9uDJ85E6Kw.jpg',\n",
       " 'photo_big': 'https://pp.userapi.com/c840124/v840124562/38667/d6MTeWy5sOA.jpg',\n",
       " 'photo_medium': 'https://pp.userapi.com/c840124/v840124562/38668/JiSlADNQvxA.jpg',\n",
       " 'screen_name': 'opticianshop',\n",
       " 'type': 'group'}"
      ]
     },
     "execution_count": 244,
     "metadata": {},
     "output_type": "execute_result"
    }
   ],
   "source": [
    "active_users.group.iloc[0]"
   ]
  },
  {
   "cell_type": "code",
   "execution_count": 230,
   "metadata": {},
   "outputs": [],
   "source": [
    "#active_users.iloc[7]['text']"
   ]
  },
  {
   "cell_type": "code",
   "execution_count": null,
   "metadata": {},
   "outputs": [],
   "source": []
  }
 ],
 "metadata": {
  "kernelspec": {
   "display_name": "Python 3",
   "language": "python",
   "name": "python3"
  },
  "language_info": {
   "codemirror_mode": {
    "name": "ipython",
    "version": 3
   },
   "file_extension": ".py",
   "mimetype": "text/x-python",
   "name": "python",
   "nbconvert_exporter": "python",
   "pygments_lexer": "ipython3",
   "version": "3.6.3"
  }
 },
 "nbformat": 4,
 "nbformat_minor": 2
}
