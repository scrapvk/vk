{
 "cells": [
  {
   "cell_type": "code",
   "execution_count": 1,
   "metadata": {},
   "outputs": [],
   "source": [
    "import vk\n",
    "import pandas as pd\n",
    "import time\n",
    "from datetime import datetime"
   ]
  },
  {
   "cell_type": "code",
   "execution_count": 2,
   "metadata": {},
   "outputs": [
    {
     "data": {
      "text/plain": [
       "[{'first_name': 'Alexander', 'last_name': 'Ovchinnikov', 'uid': 182927367}]"
      ]
     },
     "execution_count": 2,
     "metadata": {},
     "output_type": "execute_result"
    }
   ],
   "source": [
    "# opennig vk session with access token.\n",
    "session = vk.Session(access_token='3408bdb4e993af86ca9c00578293185575944c4ae31c85d19f8f70e954840551f79d83affd322e6e81667')\n",
    "api = vk.API(session)\n",
    "# example use with id, my id\n",
    "api.users.get(user_ids='architectofreality' )"
   ]
  },
  {
   "cell_type": "code",
   "execution_count": 3,
   "metadata": {},
   "outputs": [],
   "source": [
    "#searching for a keyword glaukoma starting 48 hours ago, max 200 counts can be scrapped at once\n",
    "glaukoma=api.newsfeed.search(q='glaukoma',count=200, start_time=48)"
   ]
  },
  {
   "cell_type": "markdown",
   "metadata": {},
   "source": [
    "### get last 200 posts --> take the time of the last post --> at the next iteration set the end time = time_last_post-1. Set the start time to 1 "
   ]
  },
  {
   "cell_type": "code",
   "execution_count": 4,
   "metadata": {},
   "outputs": [
    {
     "name": "stdout",
     "output_type": "stream",
     "text": [
      "Wall time: 317 ms\n"
     ]
    }
   ],
   "source": [
    "%%time\n",
    "glaukoma_rus=api.newsfeed.search(q='glaukoma',count=200, end_time=1512378120, start_time=1512378121-86400)"
   ]
  },
  {
   "cell_type": "code",
   "execution_count": 5,
   "metadata": {},
   "outputs": [],
   "source": [
    "# dropping the first element and creat a dataframe with the rest\n",
    "df=pd.DataFrame(glaukoma_rus[1:])"
   ]
  },
  {
   "cell_type": "code",
   "execution_count": 6,
   "metadata": {
    "scrolled": true
   },
   "outputs": [
    {
     "data": {
      "text/html": [
       "<div>\n",
       "<style scoped>\n",
       "    .dataframe tbody tr th:only-of-type {\n",
       "        vertical-align: middle;\n",
       "    }\n",
       "\n",
       "    .dataframe tbody tr th {\n",
       "        vertical-align: top;\n",
       "    }\n",
       "\n",
       "    .dataframe thead th {\n",
       "        text-align: right;\n",
       "    }\n",
       "</style>\n",
       "<table border=\"1\" class=\"dataframe\">\n",
       "  <thead>\n",
       "    <tr style=\"text-align: right;\">\n",
       "      <th></th>\n",
       "      <th>deactivated</th>\n",
       "      <th>first_name</th>\n",
       "      <th>last_name</th>\n",
       "      <th>uid</th>\n",
       "    </tr>\n",
       "  </thead>\n",
       "  <tbody>\n",
       "    <tr>\n",
       "      <th>0</th>\n",
       "      <td>deleted</td>\n",
       "      <td>Elena</td>\n",
       "      <td>Zatylkina</td>\n",
       "      <td>70740559</td>\n",
       "    </tr>\n",
       "  </tbody>\n",
       "</table>\n",
       "</div>"
      ],
      "text/plain": [
       "  deactivated first_name  last_name       uid\n",
       "0     deleted      Elena  Zatylkina  70740559"
      ]
     },
     "execution_count": 6,
     "metadata": {},
     "output_type": "execute_result"
    }
   ],
   "source": [
    "#getting info of each user, deactivated column\n",
    "ids=pd.DataFrame(api.users.get(user_ids=abs(df['owner_id'])))\n",
    "ids.head()"
   ]
  },
  {
   "cell_type": "code",
   "execution_count": 8,
   "metadata": {
    "scrolled": true
   },
   "outputs": [],
   "source": [
    "#time.sleep(300)\n",
    "key_words = ['#глаза', \n",
    "             '#глазки', '#зрение', '#лечениезрения', '#детскоезрение', '#лечениеглаз',\n",
    "             '#офтальмолог','#офтальмология', '#офтальмохирург', '#офтальмохирургия', '#детскоезрение',\n",
    "             '#детскийофтальмолог', '#офтальмологмосква','#дакриоцистит', '#дакриоциститноворожденных',\n",
    "             '#дакриоциститмассаж','#дакриоциститлечение', '#дакриоцисториностомия', '#зондированиеносослёзногоканала',\n",
    "             '#зондированиеноворождённых','#нистагм', '#лечениенистагма','#нистагмоперация', '#нистагмъ',\n",
    "             '#близорукость', '#миопия', '#лечениеблизорукости', '#близорукостьнеприговор',\n",
    "             '#близоркостьлечение', '#близорукостьонатакая', '#близорукостьнепорок',\n",
    "             '#близорукостьудетей','#дальнозоркость', '#гиперметропия', '#лечениедальнозоркости',\n",
    "             '#дальнозоркостьлечение','#дальнозоркостьудетей', '#дальнозоркости','#косоглазие',\n",
    "             '#страбизм', '#лечениекосоглазия', '#косоглазиелечение', '#косоглазиеэтосексуально',\n",
    "             '#косоглазиебишкек', '#косоглазиенепорок', '#косоглазие дети', '#косоглазиеэтомодно',\n",
    "             '#астигматизм', '#астигматизмлечение', '#астигматизмудетей','#амблиопия', '#амблиопиявысокойстепени',\n",
    "             '#амблиопиямосква', '#катаракта','#катарактавладивосток', '#катарактачелябинск',\n",
    "             '#катаракта лечение москва','#катарактаоперация', '#глаукома', '#глаукомалечение', \n",
    "             '#глаукомавладивосток','#глаукомачелябинск', '#птоз', '#птозверхнеговека', '#птозвека',\n",
    "             '#птозвек', '#птозанет','#лазернаякоррекция', '#лазернаякоррекциязрения', '#лазернаякоррекциязрениямосква',\n",
    "             '#лазернаякоррекцияакция', '#лазернаякоррекциямосква', '#лазернаякоррекциязренияомикрон',\n",
    "             '#лазернаякоррекцияскидки', '#lasik', '#фрк', '#smile', '#ласик', '#ласикмосква', '#ячмень', '#халязион']\n",
    "desired_time = 86400*1 # how much back we want to go in seconds\n",
    "entire_df = pd.DataFrame()\n",
    "k = 1\n",
    "for key_word in key_words:\n",
    "    #print('search for keyword: ', key_word)\n",
    "    date = time.time() # now\n",
    "    excess_time = True\n",
    "    all_df = pd.DataFrame()\n",
    "    c=1\n",
    "    while excess_time:\n",
    "        if k%60 == 0:\n",
    "            #print('Rest for 10 min')\n",
    "            time.sleep(600)\n",
    "            print('Work')\n",
    "         # print iteration count, extended tells us group vs user\n",
    "        g=api.newsfeed.search(q=[key_word],count=200, end_time = date-1, start_time=1,extended=1)\n",
    "        if len(g)>1: # check if g contains data\n",
    "            all_df = pd.concat([all_df,pd.DataFrame(g[1:])])\n",
    "            date=g[-1]['date']\n",
    "        elif len(g) <= 1 and c == 1: # check if there is data\n",
    "            #print('No posts with that keyword(s)!')\n",
    "            time.sleep(0.4)\n",
    "            break\n",
    "        elif len(g) <= 1 and c != 1: # check if there are posts eft to scrape\n",
    "            #print('No more posts to scrape!')\n",
    "            break\n",
    "\n",
    "        if date<time.time()-desired_time: # check termination condition\n",
    "            excess_time = False\n",
    "        #print(c,'iteration')\n",
    "        c+=1\n",
    "        k+=1\n",
    "    all_df['keyword'] = key_word\n",
    "    #print(len(all_df))\n",
    "    entire_df = pd.concat([entire_df,all_df])\n",
    "#print(len(entire_df))"
   ]
  },
  {
   "cell_type": "code",
   "execution_count": 16,
   "metadata": {},
   "outputs": [
    {
     "name": "stdout",
     "output_type": "stream",
     "text": [
      "2114\n"
     ]
    }
   ],
   "source": [
    "print(len(entire_df))"
   ]
  },
  {
   "cell_type": "code",
   "execution_count": 8,
   "metadata": {},
   "outputs": [],
   "source": [
    "entire_df.to_csv(r'D:\\vk_all_keywords_365_days.csv')"
   ]
  },
  {
   "cell_type": "code",
   "execution_count": 9,
   "metadata": {},
   "outputs": [],
   "source": [
    "#active_users.post_id.value_counts()"
   ]
  },
  {
   "cell_type": "code",
   "execution_count": 10,
   "metadata": {},
   "outputs": [],
   "source": [
    "#api.likes.getList(type='comment',item_id='15627.0',owner_id='18659664')"
   ]
  },
  {
   "cell_type": "code",
   "execution_count": 11,
   "metadata": {
    "scrolled": true
   },
   "outputs": [],
   "source": [
    "#api.wall.getComments(post_id='15627.0',owner_id='18659664')"
   ]
  },
  {
   "cell_type": "code",
   "execution_count": 12,
   "metadata": {
    "scrolled": true
   },
   "outputs": [],
   "source": [
    "all_id = pd.DataFrame()\n",
    "all_df_new_2=entire_df[entire_df.owner_id>0].reset_index()\n",
    "for part in range(int(len(all_df_new_2)/9000)+1):\n",
    "    \n",
    "    # take all positive ids ( user ids , negative ids are group ids)\n",
    "    all_df_new=all_df_new_2.loc[(part*9000):(1+part)*9000]\n",
    "\n",
    "    # get all users\n",
    "    all_id_2 = pd.DataFrame(api.users.get(user_ids=all_df_new['owner_id'].astype(int), fields = ['occupation']))\n",
    "    all_id = pd.concat([all_id,all_id_2])\n",
    "\n",
    "# fill active users status with valid\n",
    "all_id.fillna('Valid',inplace=True) \n",
    "try:    \n",
    "    # select all deactivated user ids\n",
    "    deactivated_ids = list(all_id[all_id['deactivated']!='Valid'].uid)\n",
    "\n",
    "    # select all active user posts\n",
    "    active_users = all_df_new[-all_df_new.owner_id.isin(deactivated_ids)] \n",
    "except:\n",
    "    active_users = all_df_new  "
   ]
  },
  {
   "cell_type": "code",
   "execution_count": 13,
   "metadata": {
    "scrolled": true
   },
   "outputs": [
    {
     "data": {
      "text/plain": [
       "349341363.0    122\n",
       "402190387.0     28\n",
       "335073041.0     22\n",
       "502331.0         8\n",
       "96085636.0       6\n",
       "Name: owner_id, dtype: int64"
      ]
     },
     "execution_count": 13,
     "metadata": {},
     "output_type": "execute_result"
    }
   ],
   "source": [
    "active_users.owner_id.value_counts().head()"
   ]
  },
  {
   "cell_type": "code",
   "execution_count": 14,
   "metadata": {},
   "outputs": [
    {
     "data": {
      "text/plain": [
       "[{'about': 'Достижения:\\n\\n* первым в России имплантировал искусственный хрусталик Acrysof Single Piece\\n* 7 октября 2009 года первым в Южном Федеральном округе выполнил 100% лазерную коррекцию зрения Femto Super LASIK\\n* среди хирургов Юга России был выбран американской компанией Alcon и получил первый международный сертификат на право имплантации линзы ReSTOR\\n* в 2009 год был награжден председателем краевого офтальмологического общества за лучший доклад на научных конференциях\\n* награжден  главным офтальмологом края за самую высокую хирургическую активность среди офтальмохирургов Краснодарского края:\\n- в 2009 году выполнил 2006 операций, \\n- в 2012 году – 2730 операций\\n- в 2013 году выполнил 3445 операций, в том числе провел эксимерлазерную коррекцию Femto Super LASIK своей дочери\\n\\nНаучная работа:\\n\\n* 48 научных статей, из них 6 в центральных журналах, 2 — в иностранной литературе\\n* 5 патентов на собственные методики диагностики и хирургии катаракты\\n* автор книги «Оптимизация результатов факоэмульсификации катаракты в условиях ослабленной капсульной поддержки»\\n * кандидатская диссертация «Дифференцированный подход к факоэмульсификации катаракты с имплантацией интраокулярной линзы в осложненных случаях»\\n\\nСертификаты, патенты, повышение квалификации: \\n\\n* 1991 год – имплантация искусственных хрусталиков (Москва)\\n* 1998 год – обучающий курс у автора эксимерлазерной хирургии Лючио Буратто (Милан, Италия)\\n* 2000 год – факоэмульсификация катаракты Bausch&amp;Lomb (США)\\n* 2005 год – получил первый международный сертификат на право имплантации линзы ReSTOR Alcon (США)\\n* 2007 год – имплантация асферичных хрусталиков (Верона, Италия), эксимерлазерная коррекция (Москва)\\n* 2010 год – фемтосекундный лазер Ziemer Femto LDV (Люцерн, Швейцария)\\n* 2013 год – фемтосекундный лазер Zeiss VisuMax (Йена, Германия)\\n* 2013 год – эксимерный лазер SCHWIND Amaris 500Е (Ашахенбург, Германия)\\n',\n",
       "  'activities': 'Катарактальный и рефракционный хирург высшей категории, кандидат медицинских наук, заместитель директора по научной работе, медицинский эксперт по внедрению новых технологий, председатель Медицинского совета объединения \"Три-З\", член президиума Кубанской ассоциации врачей-офтальмологов, член Американского общества катарактальных и рефракционных хирургов (ASCRS)',\n",
       "  'bdate': '16.4',\n",
       "  'city': 72,\n",
       "  'education_form': 'Full-time',\n",
       "  'education_status': 'Candidate of Sciences',\n",
       "  'faculty': 0,\n",
       "  'faculty_name': '',\n",
       "  'first_name': 'Alexander',\n",
       "  'graduation': 0,\n",
       "  'interests': 'Офтальмология, офтальмохирургия, офтальмолог, офтальмохирург, бесшовная хирургия катаракты, рефракционная хирургия, лазерная коррекция зрения, Femto LASIK, ReLEx SMILE, лечение пресбиопии, интраокулярные линзы Lentis Mplus, витреоретинальная хирургия, хирургия стекловидного тела и сетчатки',\n",
       "  'last_name': 'Boyko',\n",
       "  'occupation': {'id': 53373219,\n",
       "   'name': '«Три-З». Клиника заботы о зрении',\n",
       "   'type': 'work'},\n",
       "  'site': 'tri-z.ru',\n",
       "  'uid': 349341363,\n",
       "  'universities': [{'city': 72,\n",
       "    'country': 1,\n",
       "    'education_form': 'Full-time',\n",
       "    'education_status': 'Candidate of Sciences',\n",
       "    'id': 572,\n",
       "    'name': 'КубГМУ'}],\n",
       "  'university': 572,\n",
       "  'university_name': 'КубГМУ'}]"
      ]
     },
     "execution_count": 14,
     "metadata": {},
     "output_type": "execute_result"
    }
   ],
   "source": [
    "api.users.get(user_ids=349341363,fields = ['occupation','education','universities',\n",
    "                                           'bdate','city','interests','activities','about','site'])"
   ]
  },
  {
   "cell_type": "code",
   "execution_count": null,
   "metadata": {},
   "outputs": [],
   "source": []
  },
  {
   "cell_type": "code",
   "execution_count": 15,
   "metadata": {
    "scrolled": true
   },
   "outputs": [
    {
     "name": "stderr",
     "output_type": "stream",
     "text": [
      "100%|███████████████████████████████████████████████████████████████████████████████| 532/532 [00:03<00:00, 163.31it/s]\n"
     ]
    }
   ],
   "source": [
    "# creating a dataframe for dictionary values\n",
    "from tqdm import tqdm\n",
    "new_df = pd.DataFrame(columns = ['user_id','post','sex','Name_Surname',\n",
    "                                 'likes','comments','reposts','platform','date','key_word'])\n",
    "# resetting the index it make circles of 0-200\n",
    "active_users.reset_index(inplace = True)\n",
    "for i in tqdm(range(len(active_users))):    \n",
    "    new_df.loc[i,'key_word'] = active_users.loc[i,'keyword']\n",
    "    new_df.loc[i,'user_id'] = active_users.user.loc[i]['uid']\n",
    "    new_df.loc[i,'sex'] = active_users.user.loc[i]['sex']   \n",
    "    new_df.loc[i,'Name_Surname'] = active_users.user.loc[i]['first_name']+'_'+active_users.user.loc[i]['last_name']\n",
    "    new_df.loc[i,'post'] = active_users.text.loc[i]\n",
    "    new_df.loc[i,'likes'] = active_users.likes.loc[i]['count']\n",
    "    new_df.loc[i,'comments'] = active_users.comments.loc[i]['count'] \n",
    "    new_df.loc[i,'reposts'] = active_users.reposts.loc[i]['count']\n",
    "    try:\n",
    "        new_df.loc[i,'platform'] = active_users.post_source.loc[i]['type']+'_'+active_users.post_source.loc[i]['platform']\n",
    "    except:\n",
    "        new_df.loc[i,'platform'] = active_users.post_source.loc[i]['type']\n",
    "    new_df.loc[i,'date'] = datetime.fromtimestamp(active_users.date.loc[i]).strftime('%Y-%m-%d %H:%M:%S')\n",
    "new_df['sex'] = new_df['sex'].apply(lambda x: 'Female' if x==1 else 'Male' if x==2  else 'Not Specified')\n",
    "#new_df.head()"
   ]
  },
  {
   "cell_type": "code",
   "execution_count": null,
   "metadata": {},
   "outputs": [],
   "source": [
    "new_df.to_csv(r'D:\\vk_all_keywords_365_days_pretty.csv')"
   ]
  },
  {
   "cell_type": "code",
   "execution_count": 18,
   "metadata": {},
   "outputs": [],
   "source": [
    "short_df =new_df.copy()"
   ]
  },
  {
   "cell_type": "code",
   "execution_count": 19,
   "metadata": {},
   "outputs": [
    {
     "data": {
      "text/plain": [
       "(532, 10)"
      ]
     },
     "execution_count": 19,
     "metadata": {},
     "output_type": "execute_result"
    }
   ],
   "source": [
    "short_df.shape"
   ]
  },
  {
   "cell_type": "code",
   "execution_count": 12,
   "metadata": {},
   "outputs": [],
   "source": [
    "# remove posts with more than 300 characters and posts with no characters\n",
    "short_df['post']=short_df.post.apply(lambda x: x if len(x)<300 and len(x) !=0 else 'Too Long')"
   ]
  },
  {
   "cell_type": "code",
   "execution_count": 13,
   "metadata": {
    "scrolled": false
   },
   "outputs": [],
   "source": [
    "not_long = short_df[short_df['post']!='Too Long'].reset_index().drop('index', axis = 1)"
   ]
  },
  {
   "cell_type": "code",
   "execution_count": 30,
   "metadata": {},
   "outputs": [],
   "source": [
    "import re\n",
    "list_of_animals = 'кот|кошка|котёнок|котяра|котяры|котяр|котище|котик|собака|пес|собачка|кобель|псина|сука|птица|пташка|птенцы|птенец|щенок'\n",
    "def find_animal(x):\n",
    "    my_list = re.findall(list_of_animals,x)\n",
    "    if len(my_list) == 0:\n",
    "        return(True)\n",
    "    else:\n",
    "        return(False)"
   ]
  },
  {
   "cell_type": "code",
   "execution_count": 31,
   "metadata": {},
   "outputs": [],
   "source": [
    "short_df['animal'] = short_df.post.apply(lambda x: True if find_animal(x)==True else False)"
   ]
  },
  {
   "cell_type": "code",
   "execution_count": null,
   "metadata": {},
   "outputs": [],
   "source": [
    "short_df.to_csv(r'D:\\vk_all_keywords_365_days_short.csv')"
   ]
  },
  {
   "cell_type": "code",
   "execution_count": 33,
   "metadata": {},
   "outputs": [
    {
     "data": {
      "text/plain": [
       "True     79\n",
       "False     1\n",
       "Name: animal, dtype: int64"
      ]
     },
     "execution_count": 33,
     "metadata": {},
     "output_type": "execute_result"
    }
   ],
   "source": [
    "short_df.animal.value_counts()"
   ]
  }
 ],
 "metadata": {
  "kernelspec": {
   "display_name": "Python 3",
   "language": "python",
   "name": "python3"
  },
  "language_info": {
   "codemirror_mode": {
    "name": "ipython",
    "version": 3
   },
   "file_extension": ".py",
   "mimetype": "text/x-python",
   "name": "python",
   "nbconvert_exporter": "python",
   "pygments_lexer": "ipython3",
   "version": "3.6.3"
  }
 },
 "nbformat": 4,
 "nbformat_minor": 2
}
