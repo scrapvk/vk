{
 "cells": [
  {
   "cell_type": "code",
   "execution_count": 12,
   "metadata": {},
   "outputs": [],
   "source": [
    "import vk\n",
    "import pandas as pd\n",
    "import time\n",
    "from datetime import datetime\n",
    "from tqdm import tqdm, tqdm_pandas"
   ]
  },
  {
   "cell_type": "code",
   "execution_count": 13,
   "metadata": {},
   "outputs": [
    {
     "data": {
      "text/plain": [
       "[{'first_name': 'Alexander', 'last_name': 'Ovchinnikov', 'uid': 182927367}]"
      ]
     },
     "execution_count": 13,
     "metadata": {},
     "output_type": "execute_result"
    }
   ],
   "source": [
    "# opennig vk session with access token.\n",
    "session = vk.Session(access_token='0dfed272d8c2c0882f26fabaee86c1c23eca901348c1e8476f93a1fd83fe06b4b9fc4070f7c0f1aa269f6')\n",
    "api = vk.API(session)\n",
    "# example use with id, my id\n",
    "api.users.get(user_ids='architectofreality' )"
   ]
  },
  {
   "cell_type": "code",
   "execution_count": 14,
   "metadata": {},
   "outputs": [
    {
     "name": "stdout",
     "output_type": "stream",
     "text": [
      "Wall time: 333 ms\n"
     ]
    }
   ],
   "source": [
    "%%time\n",
    "glaukoma_rus=api.newsfeed.search(q='glaukoma',count=200, end_time=1512378120, start_time=1512378121-86400)"
   ]
  },
  {
   "cell_type": "code",
   "execution_count": 4,
   "metadata": {},
   "outputs": [],
   "source": [
    "%%time\n",
    "new_df = pd.read_csv(r'D:\\vk_all_keywors_10_years_vk8_pretty.csv')"
   ]
  },
  {
   "cell_type": "code",
   "execution_count": 15,
   "metadata": {},
   "outputs": [
    {
     "data": {
      "text/plain": [
       "(260155, 28)"
      ]
     },
     "execution_count": 15,
     "metadata": {},
     "output_type": "execute_result"
    }
   ],
   "source": [
    "new_df.shape"
   ]
  },
  {
   "cell_type": "code",
   "execution_count": 16,
   "metadata": {},
   "outputs": [],
   "source": [
    "# getting the comments of posts\n",
    "def commentscrapper(x):\n",
    "    uid = x['user_id']\n",
    "    pid = x['post_id']\n",
    "    \n",
    "    try:\n",
    "        time.sleep(2)\n",
    "        likes = api.likes.getList(type='post', item_id = pid, owner_id = uid)\n",
    "    # if we need to manually stop the program\n",
    "    except (KeyboardInterrupt, SystemExit):\n",
    "        raise \n",
    "    except VkAPIError as error:\n",
    "        # check if error message is due to access deny for the post likes\n",
    "        if error.message == 'Access denied: access restriction':\n",
    "            likes = 'Access denied'\n",
    "    # catch any other error, print the error\n",
    "    except Exception as error:\n",
    "        print('error occured on likes \\n',error)\n",
    "        likes = 'Error while scraping'\n",
    "        raise\n",
    "        \n",
    "    try:\n",
    "        time.sleep(2)\n",
    "        reposts = api.likes.getList(type='post', item_id = pid, owner_id = uid, filter = 'copies')\n",
    "    # if we need to manually stop the program\n",
    "    except (KeyboardInterrupt, SystemExit):\n",
    "        raise\n",
    "    except VkAPIError as error:\n",
    "        # check if error message is due to access deny for the post reposts\n",
    "        if error.message == 'Access denied: access restriction':\n",
    "            reposts = 'Access denied'\n",
    "    # catch any other error, print the error\n",
    "    except Exception as error:\n",
    "        print('error occured on reposts \\n',error)\n",
    "        reposts = 'Error while scraping'\n",
    "        raise\n",
    "        \n",
    "    # handling VKAPIERRORS for comments    \n",
    "    try: \n",
    "        time.sleep(2) \n",
    "        coms = api.wall.getComments(owner_id = uid, post_id = pid, need_likes = 1)\n",
    "    # if we need to manually stop the program\n",
    "    except (KeyboardInterrupt, SystemExit):\n",
    "        raise            \n",
    "    except VkAPIError as error:\n",
    "        # check if error message is due to access deny for the post comments\n",
    "        if error.message == 'Access to post comments denied' or error.message == \"Access denied: access restriction\":\n",
    "            pass\n",
    "        # check if error is due to post was not found (probably was deleted while the algorithm ran)\n",
    "        elif error.message == 'Access denied: post was not found check post_id param':\n",
    "            coms = '1Post was not found'\n",
    "        elif error.message == 'Access denied: post was deleted':\n",
    "            coms = '1Post was deleted'            \n",
    "        # print the error message in other cases\n",
    "        else:\n",
    "            print(error)\n",
    "        coms = '1Access Denied'\n",
    "    except Exception as error:\n",
    "        print('error occured on comments \\n',error)\n",
    "        coments = '1Error while scraping'\n",
    "        raise    \n",
    "    return {'comments':coms[1:],'users_liked': likes,'users_reposted': reposts,'user_id': uid, 'post_id':pid}"
   ]
  },
  {
   "cell_type": "code",
   "execution_count": 17,
   "metadata": {},
   "outputs": [],
   "source": [
    "# import all error types vfrom vk in case problem occurs with api connection\n",
    "from vk.exceptions import VkAPIError,VkException,VkAuthError"
   ]
  },
  {
   "cell_type": "code",
   "execution_count": null,
   "metadata": {},
   "outputs": [
    {
     "name": "stderr",
     "output_type": "stream",
     "text": [
      "\n",
      "  0%|                                                                                       | 0/260155 [00:00<?, ?it/s]c:\\users\\mher.matevosyan\\anaconda\\envs\\vk\\lib\\site-packages\\ipykernel_launcher.py:12: FutureWarning: set_value is deprecated and will be removed in a future release. Please use .at[] or .iat[] accessors instead\n",
      "  if sys.path[0] == '':\n",
      "c:\\users\\mher.matevosyan\\anaconda\\envs\\vk\\lib\\site-packages\\ipykernel_launcher.py:13: FutureWarning: set_value is deprecated and will be removed in a future release. Please use .at[] or .iat[] accessors instead\n",
      "  del sys.path[0]\n",
      "c:\\users\\mher.matevosyan\\anaconda\\envs\\vk\\lib\\site-packages\\ipykernel_launcher.py:14: FutureWarning: set_value is deprecated and will be removed in a future release. Please use .at[] or .iat[] accessors instead\n",
      "  \n",
      "\n",
      "  0%|                                                                           | 1/260155 [00:06<454:23:34,  6.29s/it]\n",
      "Exception in thread Thread-6:\n",
      "Traceback (most recent call last):\n",
      "  File \"c:\\users\\mher.matevosyan\\anaconda\\envs\\vk\\lib\\threading.py\", line 916, in _bootstrap_inner\n",
      "    self.run()\n",
      "  File \"c:\\users\\mher.matevosyan\\anaconda\\envs\\vk\\lib\\site-packages\\tqdm\\_tqdm.py\", line 144, in run\n",
      "    for instance in self.tqdm_cls._instances:\n",
      "  File \"c:\\users\\mher.matevosyan\\anaconda\\envs\\vk\\lib\\_weakrefset.py\", line 60, in __iter__\n",
      "    for itemref in self.data:\n",
      "RuntimeError: Set changed size during iteration\n",
      "\n",
      "  1%|▍                                                                     | 1500/260155 [2:38:09<454:33:22,  6.33s/it]"
     ]
    }
   ],
   "source": [
    "comments_likes_reposts = new_df.copy()#pd.DataFrame()\n",
    "comments_likes_reposts['comments'] = None\n",
    "comments_likes_reposts['users_liked'] = None\n",
    "comments_likes_reposts['users_reposted'] = None\n",
    "for i in tqdm(range(new_df.shape[0])):\n",
    "    # in case a timeout error or something else occurs try on the same post till no error occurs \n",
    "    # avoid the same error if it occurs on the same post more than 10 times\n",
    "    count = 0\n",
    "    while count<=10:\n",
    "        try:\n",
    "            clr = commentscrapper(new_df.iloc[i])\n",
    "            comments_likes_reposts.set_value(i,'comments' ,clr['comments'] )     \n",
    "            comments_likes_reposts.set_value(i,'users_liked', clr['users_liked'])          \n",
    "            comments_likes_reposts.set_value(i,'users_reposted', clr['users_reposted'])\n",
    "            break\n",
    "        # in case requests per second exceed limit  sleep for 10 mins\n",
    "        except VkAPIError as error:\n",
    "            if error.message == 'Too many requests per second':\n",
    "                print('timeout error occured sleep for 1 min')\n",
    "                time.sleep(60)\n",
    "            else:\n",
    "                print(error)\n",
    "        # if we need to manually stop the program\n",
    "        except (KeyboardInterrupt, SystemExit):\n",
    "            raise\n",
    "        # catch any other error print message sleep for 10 seconds re-enter WHILE loop\n",
    "        except Exception as error:\n",
    "            print('error occured during the main loop \\n sleep 10 sec \\n',error,'\\n count of same error: ',count)\n",
    "            count += 1\n",
    "            time.sleep(10)\n",
    "        if i%5000 == 0:\n",
    "            comments_likes_reposts.to_csv(r'comments_likes_reposts.csv')\n"
   ]
  },
  {
   "cell_type": "code",
   "execution_count": null,
   "metadata": {},
   "outputs": [],
   "source": [
    "comments_likes_reposts.head()"
   ]
  },
  {
   "cell_type": "code",
   "execution_count": null,
   "metadata": {},
   "outputs": [],
   "source": [
    "comments_likes_reposts.to_csv('vk_all_leyords_10_years_vk8_comments_likes_reposts.csv')"
   ]
  },
  {
   "cell_type": "code",
   "execution_count": null,
   "metadata": {},
   "outputs": [],
   "source": [
    "short_df = comments_likes_reposts.copy()"
   ]
  },
  {
   "cell_type": "code",
   "execution_count": null,
   "metadata": {},
   "outputs": [],
   "source": [
    "pd.options.display.max_columns = 100\n",
    "short_df.head()"
   ]
  },
  {
   "cell_type": "code",
   "execution_count": null,
   "metadata": {},
   "outputs": [],
   "source": [
    "# remove posts with more than 300 characters and posts with no characters\n",
    "short_df['post']=short_df.text.apply(lambda x: x if len(x)<300 and len(x) !=0 else 'Too Long')"
   ]
  },
  {
   "cell_type": "code",
   "execution_count": null,
   "metadata": {
    "scrolled": false
   },
   "outputs": [],
   "source": [
    "not_long = short_df[short_df['post']!='Too Long'].reset_index().drop('index', axis = 1)"
   ]
  },
  {
   "cell_type": "code",
   "execution_count": null,
   "metadata": {},
   "outputs": [],
   "source": [
    "import re\n",
    "list_of_animals = 'кот|кошка|котёнок|котяра|котяры|котяр|котище|котик|собака|пес|собачка|кобель|псина|сука|птица|пташка|птенцы|птенец|щенок'\n",
    "def find_animal(x):\n",
    "    my_list = re.findall(list_of_animals,x['post'])\n",
    "    if len(my_list) == 0:\n",
    "        return(True)\n",
    "    else:\n",
    "        return(False)"
   ]
  },
  {
   "cell_type": "code",
   "execution_count": null,
   "metadata": {},
   "outputs": [],
   "source": [
    "new_df['animal'] = new_df.apply(find_animal,axis = 1)"
   ]
  },
  {
   "cell_type": "code",
   "execution_count": null,
   "metadata": {},
   "outputs": [],
   "source": [
    "(new_df.animal == True).value_counts()"
   ]
  },
  {
   "cell_type": "code",
   "execution_count": null,
   "metadata": {},
   "outputs": [],
   "source": [
    "short_df.to_csv(r'D:\\vk_all_keywords_10_years_vk8_short.csv')"
   ]
  }
 ],
 "metadata": {
  "kernelspec": {
   "display_name": "Python 3",
   "language": "python",
   "name": "python3"
  },
  "language_info": {
   "codemirror_mode": {
    "name": "ipython",
    "version": 3
   },
   "file_extension": ".py",
   "mimetype": "text/x-python",
   "name": "python",
   "nbconvert_exporter": "python",
   "pygments_lexer": "ipython3",
   "version": "3.6.3"
  }
 },
 "nbformat": 4,
 "nbformat_minor": 2
}
